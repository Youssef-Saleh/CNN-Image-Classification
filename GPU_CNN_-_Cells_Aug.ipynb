{
 "cells": [
  {
   "cell_type": "code",
   "execution_count": 1,
   "metadata": {},
   "outputs": [],
   "source": [
    "import os\n",
    "import re\n",
    "import sys\n",
    "\n",
    "import skimage.io as skio\n",
    "import matplotlib.pyplot as plt\n",
    "\n",
    "import numpy as np\n",
    "import os\n",
    "import sys\n",
    "from math import sqrt\n",
    "\n",
    "import cv2\n",
    "import pandas as pd\n",
    "\n",
    "from tensorflow.keras.callbacks import EarlyStopping\n",
    "from sklearn.preprocessing import OneHotEncoder\n",
    "from sklearn.metrics import classification_report, confusion_matrix , accuracy_score\n",
    "from sklearn.model_selection import train_test_split\n",
    "from skimage.transform import rescale, resize, downscale_local_mean\n",
    "\n",
    "import time\n",
    "\n",
    "from PIL import Image\n",
    "from skimage.feature import hog\n",
    "\n",
    "from sklearn.metrics import confusion_matrix\n",
    "import itertools\n",
    "\n",
    "import tensorflow as tf\n",
    "from tensorflow import keras\n",
    "from keras.utils import generic_utils\n",
    "from keras.utils.np_utils import to_categorical # convert to one-hot-encoding\n",
    "from tensorflow.keras.models import Sequential\n",
    "from keras.layers import Dense, Dropout, Flatten, Conv2D, MaxPool2D\n",
    "from keras.regularizers import l2\n",
    "\n",
    "from tensorflow.keras.preprocessing.image import ImageDataGenerator\n",
    "from tensorflow.keras.optimizers import Adam\n",
    "\n",
    "\n",
    "import seaborn as sns"
   ]
  },
  {
   "cell_type": "code",
   "execution_count": 2,
   "metadata": {},
   "outputs": [
    {
     "name": "stdout",
     "output_type": "stream",
     "text": [
      "Num GPUs Available:  1\n"
     ]
    }
   ],
   "source": [
    "print(\"Num GPUs Available: \", len(tf.config.list_physical_devices('GPU')))"
   ]
  },
  {
   "cell_type": "code",
   "execution_count": 3,
   "metadata": {},
   "outputs": [],
   "source": [
    "def ReadImageFolder(path):\n",
    "    filepaths = [os.path.join(r,file) for r,d,f in os.walk(os.getcwd() + path) for file in f]\n",
    "    ext = (\".tif\",\".TIF\",'.jpg')\n",
    "    filepaths = [x for x in filepaths if x.endswith(ext)]\n",
    "    return filepaths"
   ]
  },
  {
   "cell_type": "code",
   "execution_count": 4,
   "metadata": {},
   "outputs": [],
   "source": [
    "Labels = [ ]\n",
    "Labels_String = [\"actin\" , \"dna\" , \"endosome\" , \"er\" , \"golgia\" , \n",
    "               \"golgpp\" , \"lysosome\" , \"microtubules\" , \"mitochondria\",\n",
    "               \"nucleolus\"]\n",
    "\n",
    "path = \"/DatasetPattern/actin\"\n",
    "actin_paths = ReadImageFolder(path)\n",
    "for i in range(len(actin_paths)):\n",
    "  Labels.append(0)\n",
    "\n",
    "path = \"/DatasetPattern/dna\"\n",
    "dna_paths = ReadImageFolder(path)\n",
    "for i in range(len(dna_paths)):\n",
    "  Labels.append(1)\n",
    "\n",
    "path = \"/DatasetPattern/endosome\"\n",
    "endosome_paths = ReadImageFolder(path)\n",
    "for i in range(len(endosome_paths)):\n",
    "  Labels.append(2)\n",
    "\n",
    "path = \"/DatasetPattern/er\"\n",
    "er_paths = ReadImageFolder(path)\n",
    "for i in range(len(er_paths)):\n",
    "  Labels.append(3)\n",
    "\n",
    "path = \"/DatasetPattern/golgia\"\n",
    "golgia_paths = ReadImageFolder(path)\n",
    "for i in range(len(golgia_paths)):\n",
    "  Labels.append(4)\n",
    "\n",
    "path = \"/DatasetPattern/golgpp\"\n",
    "golgpp_paths = ReadImageFolder(path)\n",
    "for i in range(len(golgpp_paths)):\n",
    "  Labels.append(5)\n",
    "\n",
    "path = \"/DatasetPattern/lysosome\"\n",
    "lysosome_paths = ReadImageFolder(path)\n",
    "for i in range(len(lysosome_paths)):\n",
    "  Labels.append(6)\n",
    "\n",
    "\n",
    "path = \"/DatasetPattern/microtubules\"\n",
    "microtubules_paths = ReadImageFolder(path)\n",
    "for i in range(len(microtubules_paths)):\n",
    "  Labels.append(7)\n",
    "\n",
    "path = \"/DatasetPattern/mitochondria\"\n",
    "mitochondria_paths = ReadImageFolder(path)\n",
    "for i in range(len(mitochondria_paths)):\n",
    "  Labels.append(8)\n",
    "\n",
    "path = \"/DatasetPattern/nucleolus\"\n",
    "nucleolus_paths = ReadImageFolder(path)\n",
    "for i in range(len(nucleolus_paths)):\n",
    "  Labels.append(9)\n",
    "\n",
    "\n",
    "Paths_Array = [actin_paths , dna_paths , endosome_paths , er_paths , golgia_paths , \n",
    "               golgpp_paths , lysosome_paths , microtubules_paths , mitochondria_paths,\n",
    "               nucleolus_paths]"
   ]
  },
  {
   "cell_type": "code",
   "execution_count": 5,
   "metadata": {},
   "outputs": [],
   "source": [
    "def PrepareImagesArray(paths,AllImages_Array):\n",
    "\n",
    "    for i in paths:\n",
    "\n",
    "      img_arr = cv2.imread(i , cv2.IMREAD_GRAYSCALE)\n",
    "        \n",
    "      #img_size = 256\n",
    "      #Reshaping images to preferred size\n",
    "      #resized_arr = cv2.resize(img_arr, (img_size, img_size) , interpolation = cv2.INTER_CUBIC  ) \n",
    "      img_arr = img_arr.astype('float64')\n",
    "      img_arr = (img_arr - img_arr.mean()) / (img_arr.std()) # New Normalize\n",
    "    \n",
    "      AllImages_Array.append(img_arr)"
   ]
  },
  {
   "cell_type": "code",
   "execution_count": 6,
   "metadata": {},
   "outputs": [],
   "source": [
    "AllImages_Array = [ ]\n",
    "for i in Paths_Array:\n",
    "  PrepareImagesArray(i,AllImages_Array)\n",
    "AllImages_Array_np = np.array(AllImages_Array)\n",
    "AllImages_Array = [ ]"
   ]
  },
  {
   "cell_type": "code",
   "execution_count": 7,
   "metadata": {},
   "outputs": [],
   "source": [
    "AllImages_Array_np = AllImages_Array_np.reshape(-1,382,382,1)"
   ]
  },
  {
   "cell_type": "code",
   "execution_count": 8,
   "metadata": {},
   "outputs": [],
   "source": [
    "Labels_encoded = to_categorical(Labels, num_classes = 10)"
   ]
  },
  {
   "cell_type": "code",
   "execution_count": 9,
   "metadata": {},
   "outputs": [
    {
     "name": "stdout",
     "output_type": "stream",
     "text": [
      "x_train shape (600, 382, 382, 1)\n",
      "x_test shape (130, 382, 382, 1)\n",
      "x_valid shape (132, 382, 382, 1)\n",
      "y_train shape (600, 10)\n",
      "y_test shape (130, 10)\n",
      "y_valid shape (132, 10)\n"
     ]
    }
   ],
   "source": [
    "x_train , x_test , y_train , y_test = train_test_split(AllImages_Array_np , Labels_encoded, test_size=0.15)\n",
    "x_train , x_valid , y_train , y_valid = train_test_split(x_train , y_train, test_size=0.18)\n",
    "print(\"x_train shape\",x_train.shape)\n",
    "print(\"x_test shape\",x_test.shape)\n",
    "\n",
    "print(\"x_valid shape\",x_valid.shape)\n",
    "print(\"y_train shape\",y_train.shape)\n",
    "print(\"y_test shape\",y_test.shape)\n",
    "print(\"y_valid shape\",y_valid.shape)\n"
   ]
  },
  {
   "cell_type": "code",
   "execution_count": 13,
   "metadata": {},
   "outputs": [
    {
     "name": "stdout",
     "output_type": "stream",
     "text": [
      "Model: \"sequential\"\n",
      "_________________________________________________________________\n",
      "Layer (type)                 Output Shape              Param #   \n",
      "=================================================================\n",
      "conv2d (Conv2D)              (None, 382, 382, 32)      320       \n",
      "_________________________________________________________________\n",
      "max_pooling2d (MaxPooling2D) (None, 191, 191, 32)      0         \n",
      "_________________________________________________________________\n",
      "conv2d_1 (Conv2D)            (None, 191, 191, 64)      18496     \n",
      "_________________________________________________________________\n",
      "max_pooling2d_1 (MaxPooling2 (None, 95, 95, 64)        0         \n",
      "_________________________________________________________________\n",
      "conv2d_2 (Conv2D)            (None, 95, 95, 128)       73856     \n",
      "_________________________________________________________________\n",
      "max_pooling2d_2 (MaxPooling2 (None, 47, 47, 128)       0         \n",
      "_________________________________________________________________\n",
      "conv2d_3 (Conv2D)            (None, 47, 47, 256)       295168    \n",
      "_________________________________________________________________\n",
      "max_pooling2d_3 (MaxPooling2 (None, 15, 15, 256)       0         \n",
      "_________________________________________________________________\n",
      "flatten (Flatten)            (None, 57600)             0         \n",
      "_________________________________________________________________\n",
      "dense (Dense)                (None, 256)               14745856  \n",
      "_________________________________________________________________\n",
      "dense_1 (Dense)              (None, 10)                2570      \n",
      "=================================================================\n",
      "Total params: 15,136,266\n",
      "Trainable params: 15,136,266\n",
      "Non-trainable params: 0\n",
      "_________________________________________________________________\n"
     ]
    }
   ],
   "source": [
    "model = Sequential()\n",
    "\n",
    "\n",
    "model.add(Conv2D(filters = 32, kernel_size = (3,3), \n",
    "                 padding='same',  activation ='relu'\n",
    "                 , input_shape = (382,382,1)))\n",
    "model.add(MaxPool2D(pool_size=(2,2)))\n",
    "\n",
    "model.add(Conv2D(filters = 64, kernel_size = (3,3),\n",
    "                 padding = 'same', activation ='relu'))\n",
    "model.add(MaxPool2D(pool_size=(2,2)))\n",
    "\n",
    "model.add(Conv2D(filters = 128, kernel_size = (3,3),\n",
    "                 padding = 'same', activation ='relu'))\n",
    "model.add(MaxPool2D(pool_size=(2,2)))\n",
    "\n",
    "model.add(Conv2D(filters = 256, kernel_size = (3,3),\n",
    "                 padding = 'same', activation ='relu'))\n",
    "model.add(MaxPool2D(pool_size=(3,3)))\n",
    "\n",
    "model.add(Flatten())\n",
    "model.add(Dense(256, activation = \"relu\"))\n",
    "model.add(Dense(10, activation = \"softmax\"))\n",
    "model.summary()"
   ]
  },
  {
   "cell_type": "code",
   "execution_count": 14,
   "metadata": {},
   "outputs": [],
   "source": [
    "optimizer = Adam(learning_rate=0.001, beta_1=0.9, beta_2=0.999)\n",
    "es = EarlyStopping(monitor='val_loss', mode='min', verbose=1, patience=12)"
   ]
  },
  {
   "cell_type": "code",
   "execution_count": 15,
   "metadata": {},
   "outputs": [],
   "source": [
    "model.compile(optimizer = \"Adam\"  , loss = \"categorical_crossentropy\", metrics=[\"accuracy\"])"
   ]
  },
  {
   "cell_type": "code",
   "execution_count": 16,
   "metadata": {},
   "outputs": [],
   "source": [
    "epochs = 60  # for better result increase the epochs\n",
    "batch_size = 2"
   ]
  },
  {
   "cell_type": "code",
   "execution_count": 17,
   "metadata": {},
   "outputs": [],
   "source": [
    "checkpoint_filepath = './tmp_cells/checkpoint'\n",
    "mc = keras.callbacks.ModelCheckpoint(\n",
    "    filepath=checkpoint_filepath,\n",
    "    save_weights_only=False,\n",
    "    monitor='val_accuracy',\n",
    "    mode='max',\n",
    "    verbose=1,\n",
    "    save_best_only=True)"
   ]
  },
  {
   "cell_type": "code",
   "execution_count": 18,
   "metadata": {},
   "outputs": [],
   "source": [
    "datagen = ImageDataGenerator(\n",
    "        featurewise_center=False,  # set input mean to 0 over the dataset\n",
    "        samplewise_center=False,  # set each sample mean to 0\n",
    "        featurewise_std_normalization=False,  # divide inputs by std of the dataset\n",
    "        samplewise_std_normalization=False,  # divide each input by its std\n",
    "        zca_whitening=False,  # dimesion reduction\n",
    "        rotation_range=32,  # randomly rotate images in the range 32 degrees\n",
    "        width_shift_range=0.1,  # randomly shift images horizontally 10%\n",
    "        height_shift_range=0.1,  # randomly shift images vertically 10%\n",
    "        horizontal_flip=False,  # randomly flip images\n",
    "        vertical_flip=False)  # randomly flip images\n",
    "\n",
    "datagen.fit(x_train)"
   ]
  },
  {
   "cell_type": "code",
   "execution_count": 19,
   "metadata": {},
   "outputs": [
    {
     "name": "stdout",
     "output_type": "stream",
     "text": [
      "Epoch 1/60\n",
      "300/300 [==============================] - 22s 49ms/step - loss: 1.9371 - accuracy: 0.2983 - val_loss: 1.3952 - val_accuracy: 0.4470\n",
      "\n",
      "Epoch 00001: val_accuracy improved from -inf to 0.44697, saving model to ./tmp_cells\\checkpoint\n",
      "INFO:tensorflow:Assets written to: ./tmp_cells\\checkpoint\\assets\n",
      "Epoch 2/60\n",
      "300/300 [==============================] - 6s 19ms/step - loss: 1.0818 - accuracy: 0.6417 - val_loss: 1.2550 - val_accuracy: 0.6364\n",
      "\n",
      "Epoch 00002: val_accuracy improved from 0.44697 to 0.63636, saving model to ./tmp_cells\\checkpoint\n",
      "INFO:tensorflow:Assets written to: ./tmp_cells\\checkpoint\\assets\n",
      "Epoch 3/60\n",
      "300/300 [==============================] - 6s 18ms/step - loss: 0.6311 - accuracy: 0.7900 - val_loss: 1.4795 - val_accuracy: 0.5379\n",
      "\n",
      "Epoch 00003: val_accuracy did not improve from 0.63636\n",
      "Epoch 4/60\n",
      "300/300 [==============================] - 5s 18ms/step - loss: 0.3574 - accuracy: 0.8917 - val_loss: 1.9520 - val_accuracy: 0.5152\n",
      "\n",
      "Epoch 00004: val_accuracy did not improve from 0.63636\n",
      "Epoch 5/60\n",
      "300/300 [==============================] - 6s 18ms/step - loss: 0.2139 - accuracy: 0.9300 - val_loss: 1.8649 - val_accuracy: 0.5985\n",
      "\n",
      "Epoch 00005: val_accuracy did not improve from 0.63636\n",
      "Epoch 6/60\n",
      "300/300 [==============================] - 6s 19ms/step - loss: 0.1228 - accuracy: 0.9583 - val_loss: 3.2712 - val_accuracy: 0.6288\n",
      "\n",
      "Epoch 00006: val_accuracy did not improve from 0.63636\n",
      "Epoch 7/60\n",
      "300/300 [==============================] - 6s 18ms/step - loss: 0.2505 - accuracy: 0.9217 - val_loss: 2.2000 - val_accuracy: 0.6742\n",
      "\n",
      "Epoch 00007: val_accuracy improved from 0.63636 to 0.67424, saving model to ./tmp_cells\\checkpoint\n",
      "INFO:tensorflow:Assets written to: ./tmp_cells\\checkpoint\\assets\n",
      "Epoch 8/60\n",
      "300/300 [==============================] - 6s 19ms/step - loss: 0.0702 - accuracy: 0.9817 - val_loss: 2.3576 - val_accuracy: 0.6515\n",
      "\n",
      "Epoch 00008: val_accuracy did not improve from 0.67424\n",
      "Epoch 9/60\n",
      "300/300 [==============================] - 6s 19ms/step - loss: 0.0513 - accuracy: 0.9800 - val_loss: 4.3150 - val_accuracy: 0.5227\n",
      "\n",
      "Epoch 00009: val_accuracy did not improve from 0.67424\n",
      "Epoch 10/60\n",
      "300/300 [==============================] - 6s 19ms/step - loss: 0.0959 - accuracy: 0.9733 - val_loss: 3.0158 - val_accuracy: 0.6364\n",
      "\n",
      "Epoch 00010: val_accuracy did not improve from 0.67424\n",
      "Epoch 11/60\n",
      "300/300 [==============================] - 6s 18ms/step - loss: 0.0222 - accuracy: 0.9950 - val_loss: 4.9850 - val_accuracy: 0.5530\n",
      "\n",
      "Epoch 00011: val_accuracy did not improve from 0.67424\n",
      "Epoch 12/60\n",
      "300/300 [==============================] - 6s 18ms/step - loss: 0.2698 - accuracy: 0.9433 - val_loss: 2.9098 - val_accuracy: 0.5833\n",
      "\n",
      "Epoch 00012: val_accuracy did not improve from 0.67424\n",
      "Epoch 13/60\n",
      "300/300 [==============================] - 6s 19ms/step - loss: 0.3049 - accuracy: 0.9350 - val_loss: 3.6598 - val_accuracy: 0.5606\n",
      "\n",
      "Epoch 00013: val_accuracy did not improve from 0.67424\n",
      "Epoch 14/60\n",
      "300/300 [==============================] - 6s 19ms/step - loss: 0.0684 - accuracy: 0.9800 - val_loss: 3.1401 - val_accuracy: 0.6061\n",
      "\n",
      "Epoch 00014: val_accuracy did not improve from 0.67424\n",
      "Epoch 00014: early stopping\n"
     ]
    }
   ],
   "source": [
    "'''\n",
    "history = model.fit(x_train,y_train, batch_size=batch_size,\n",
    "                              epochs = epochs, validation_data = (x_valid,y_valid),\n",
    "                    steps_per_epoch=x_train.shape[0] // batch_size , callbacks=[es,mc])\n",
    "'''"
   ]
  },
  {
   "cell_type": "code",
   "execution_count": 59,
   "metadata": {},
   "outputs": [
    {
     "name": "stdout",
     "output_type": "stream",
     "text": [
      "Epoch 1/60\n",
      "300/300 [==============================] - 14s 43ms/step - loss: 2.1380 - accuracy: 0.2383 - val_loss: 1.8062 - val_accuracy: 0.3561\n",
      "\n",
      "Epoch 00001: val_accuracy improved from -inf to 0.35606, saving model to ./tmp_cells\\checkpoint\n",
      "INFO:tensorflow:Assets written to: ./tmp_cells\\checkpoint\\assets\n",
      "Epoch 2/60\n",
      "300/300 [==============================] - 11s 35ms/step - loss: 1.6349 - accuracy: 0.4300 - val_loss: 1.2561 - val_accuracy: 0.5530\n",
      "\n",
      "Epoch 00002: val_accuracy improved from 0.35606 to 0.55303, saving model to ./tmp_cells\\checkpoint\n",
      "INFO:tensorflow:Assets written to: ./tmp_cells\\checkpoint\\assets\n",
      "Epoch 3/60\n",
      "300/300 [==============================] - 11s 35ms/step - loss: 1.1973 - accuracy: 0.5633 - val_loss: 1.1408 - val_accuracy: 0.5455\n",
      "\n",
      "Epoch 00003: val_accuracy did not improve from 0.55303\n",
      "Epoch 4/60\n",
      "300/300 [==============================] - 11s 35ms/step - loss: 0.9319 - accuracy: 0.6567 - val_loss: 0.7909 - val_accuracy: 0.7045\n",
      "\n",
      "Epoch 00004: val_accuracy improved from 0.55303 to 0.70455, saving model to ./tmp_cells\\checkpoint\n",
      "INFO:tensorflow:Assets written to: ./tmp_cells\\checkpoint\\assets\n",
      "Epoch 5/60\n",
      "300/300 [==============================] - 11s 37ms/step - loss: 0.7292 - accuracy: 0.7200 - val_loss: 0.6933 - val_accuracy: 0.7273\n",
      "\n",
      "Epoch 00005: val_accuracy improved from 0.70455 to 0.72727, saving model to ./tmp_cells\\checkpoint\n",
      "INFO:tensorflow:Assets written to: ./tmp_cells\\checkpoint\\assets\n",
      "Epoch 6/60\n",
      "300/300 [==============================] - 11s 36ms/step - loss: 0.6617 - accuracy: 0.7517 - val_loss: 1.2317 - val_accuracy: 0.6136\n",
      "\n",
      "Epoch 00006: val_accuracy did not improve from 0.72727\n",
      "Epoch 7/60\n",
      "300/300 [==============================] - 11s 37ms/step - loss: 0.5506 - accuracy: 0.7983 - val_loss: 0.5703 - val_accuracy: 0.7955\n",
      "\n",
      "Epoch 00007: val_accuracy improved from 0.72727 to 0.79545, saving model to ./tmp_cells\\checkpoint\n",
      "INFO:tensorflow:Assets written to: ./tmp_cells\\checkpoint\\assets\n",
      "Epoch 8/60\n",
      "300/300 [==============================] - 11s 35ms/step - loss: 0.5461 - accuracy: 0.8167 - val_loss: 0.5016 - val_accuracy: 0.8030\n",
      "\n",
      "Epoch 00008: val_accuracy improved from 0.79545 to 0.80303, saving model to ./tmp_cells\\checkpoint\n",
      "INFO:tensorflow:Assets written to: ./tmp_cells\\checkpoint\\assets\n",
      "Epoch 9/60\n",
      "300/300 [==============================] - 11s 35ms/step - loss: 0.6371 - accuracy: 0.7717 - val_loss: 0.5838 - val_accuracy: 0.7879\n",
      "\n",
      "Epoch 00009: val_accuracy did not improve from 0.80303\n",
      "Epoch 10/60\n",
      "300/300 [==============================] - 10s 35ms/step - loss: 0.4605 - accuracy: 0.8517 - val_loss: 0.6003 - val_accuracy: 0.8030\n",
      "\n",
      "Epoch 00010: val_accuracy did not improve from 0.80303\n",
      "Epoch 11/60\n",
      "300/300 [==============================] - 11s 36ms/step - loss: 0.3532 - accuracy: 0.8683 - val_loss: 0.8406 - val_accuracy: 0.8030\n",
      "\n",
      "Epoch 00011: val_accuracy did not improve from 0.80303\n",
      "Epoch 12/60\n",
      "300/300 [==============================] - 11s 37ms/step - loss: 0.4718 - accuracy: 0.8467 - val_loss: 0.5732 - val_accuracy: 0.7879\n",
      "\n",
      "Epoch 00012: val_accuracy did not improve from 0.80303\n",
      "Epoch 13/60\n",
      "300/300 [==============================] - 11s 35ms/step - loss: 0.3823 - accuracy: 0.8583 - val_loss: 1.0491 - val_accuracy: 0.6894\n",
      "\n",
      "Epoch 00013: val_accuracy did not improve from 0.80303\n",
      "Epoch 14/60\n",
      "300/300 [==============================] - 10s 35ms/step - loss: 0.3965 - accuracy: 0.8717 - val_loss: 0.6043 - val_accuracy: 0.7576\n",
      "\n",
      "Epoch 00014: val_accuracy did not improve from 0.80303\n",
      "Epoch 15/60\n",
      "300/300 [==============================] - 10s 35ms/step - loss: 0.3011 - accuracy: 0.9000 - val_loss: 0.5160 - val_accuracy: 0.8182\n",
      "\n",
      "Epoch 00015: val_accuracy improved from 0.80303 to 0.81818, saving model to ./tmp_cells\\checkpoint\n",
      "INFO:tensorflow:Assets written to: ./tmp_cells\\checkpoint\\assets\n",
      "Epoch 16/60\n",
      "300/300 [==============================] - 11s 36ms/step - loss: 0.2685 - accuracy: 0.9150 - val_loss: 0.4623 - val_accuracy: 0.8030\n",
      "\n",
      "Epoch 00016: val_accuracy did not improve from 0.81818\n",
      "Epoch 17/60\n",
      "300/300 [==============================] - 11s 35ms/step - loss: 0.2726 - accuracy: 0.9117 - val_loss: 0.4180 - val_accuracy: 0.8561\n",
      "\n",
      "Epoch 00017: val_accuracy improved from 0.81818 to 0.85606, saving model to ./tmp_cells\\checkpoint\n",
      "INFO:tensorflow:Assets written to: ./tmp_cells\\checkpoint\\assets\n",
      "Epoch 18/60\n",
      "300/300 [==============================] - 11s 36ms/step - loss: 0.3436 - accuracy: 0.8833 - val_loss: 0.5980 - val_accuracy: 0.7803\n",
      "\n",
      "Epoch 00018: val_accuracy did not improve from 0.85606\n",
      "Epoch 19/60\n",
      "300/300 [==============================] - 11s 35ms/step - loss: 0.4010 - accuracy: 0.8717 - val_loss: 0.5345 - val_accuracy: 0.8182\n",
      "\n",
      "Epoch 00019: val_accuracy did not improve from 0.85606\n",
      "Epoch 20/60\n",
      "300/300 [==============================] - 11s 35ms/step - loss: 0.2948 - accuracy: 0.8950 - val_loss: 0.6665 - val_accuracy: 0.7803\n",
      "\n",
      "Epoch 00020: val_accuracy did not improve from 0.85606\n",
      "Epoch 21/60\n",
      "300/300 [==============================] - 11s 36ms/step - loss: 0.2744 - accuracy: 0.9017 - val_loss: 0.4041 - val_accuracy: 0.8485\n",
      "\n",
      "Epoch 00021: val_accuracy did not improve from 0.85606\n",
      "Epoch 22/60\n",
      "300/300 [==============================] - 11s 36ms/step - loss: 0.2124 - accuracy: 0.9217 - val_loss: 0.4565 - val_accuracy: 0.8409\n",
      "\n",
      "Epoch 00022: val_accuracy did not improve from 0.85606\n",
      "Epoch 23/60\n",
      "300/300 [==============================] - 11s 36ms/step - loss: 0.1695 - accuracy: 0.9500 - val_loss: 0.7658 - val_accuracy: 0.7955\n",
      "\n",
      "Epoch 00023: val_accuracy did not improve from 0.85606\n",
      "Epoch 24/60\n",
      "300/300 [==============================] - 11s 38ms/step - loss: 0.3179 - accuracy: 0.9000 - val_loss: 0.4453 - val_accuracy: 0.8485\n",
      "\n",
      "Epoch 00024: val_accuracy did not improve from 0.85606\n",
      "Epoch 25/60\n",
      "300/300 [==============================] - 11s 35ms/step - loss: 0.2525 - accuracy: 0.9200 - val_loss: 0.5883 - val_accuracy: 0.8106\n",
      "\n",
      "Epoch 00025: val_accuracy did not improve from 0.85606\n",
      "Epoch 26/60\n",
      "300/300 [==============================] - 10s 35ms/step - loss: 0.2278 - accuracy: 0.9383 - val_loss: 0.3887 - val_accuracy: 0.8485\n",
      "\n",
      "Epoch 00026: val_accuracy did not improve from 0.85606\n",
      "Epoch 27/60\n",
      "300/300 [==============================] - 11s 35ms/step - loss: 0.1566 - accuracy: 0.9567 - val_loss: 0.4362 - val_accuracy: 0.8030\n",
      "\n",
      "Epoch 00027: val_accuracy did not improve from 0.85606\n",
      "Epoch 28/60\n",
      "300/300 [==============================] - 11s 36ms/step - loss: 0.2075 - accuracy: 0.9467 - val_loss: 0.5305 - val_accuracy: 0.8182\n",
      "\n",
      "Epoch 00028: val_accuracy did not improve from 0.85606\n",
      "Epoch 29/60\n",
      "300/300 [==============================] - 11s 36ms/step - loss: 0.2851 - accuracy: 0.9033 - val_loss: 0.5594 - val_accuracy: 0.7879\n",
      "\n",
      "Epoch 00029: val_accuracy did not improve from 0.85606\n",
      "Epoch 30/60\n",
      "300/300 [==============================] - 11s 37ms/step - loss: 0.1931 - accuracy: 0.9367 - val_loss: 0.4018 - val_accuracy: 0.8561\n",
      "\n",
      "Epoch 00030: val_accuracy did not improve from 0.85606\n",
      "Epoch 31/60\n",
      "300/300 [==============================] - 11s 37ms/step - loss: 0.2670 - accuracy: 0.9183 - val_loss: 0.5666 - val_accuracy: 0.8712\n",
      "\n",
      "Epoch 00031: val_accuracy improved from 0.85606 to 0.87121, saving model to ./tmp_cells\\checkpoint\n",
      "INFO:tensorflow:Assets written to: ./tmp_cells\\checkpoint\\assets\n",
      "Epoch 32/60\n",
      "300/300 [==============================] - 11s 35ms/step - loss: 0.1439 - accuracy: 0.9450 - val_loss: 0.7830 - val_accuracy: 0.7879\n",
      "\n",
      "Epoch 00032: val_accuracy did not improve from 0.87121\n",
      "Epoch 33/60\n",
      "300/300 [==============================] - 10s 35ms/step - loss: 0.1436 - accuracy: 0.9467 - val_loss: 0.4763 - val_accuracy: 0.8561\n",
      "\n",
      "Epoch 00033: val_accuracy did not improve from 0.87121\n",
      "Epoch 34/60\n",
      "300/300 [==============================] - 10s 35ms/step - loss: 0.1789 - accuracy: 0.9367 - val_loss: 0.6028 - val_accuracy: 0.8485\n",
      "\n",
      "Epoch 00034: val_accuracy did not improve from 0.87121\n",
      "Epoch 35/60\n",
      "300/300 [==============================] - 10s 35ms/step - loss: 0.2260 - accuracy: 0.9233 - val_loss: 0.5784 - val_accuracy: 0.8182\n",
      "\n",
      "Epoch 00035: val_accuracy did not improve from 0.87121\n",
      "Epoch 36/60\n",
      "300/300 [==============================] - 11s 35ms/step - loss: 0.1479 - accuracy: 0.9433 - val_loss: 0.8488 - val_accuracy: 0.8030\n",
      "\n",
      "Epoch 00036: val_accuracy did not improve from 0.87121\n",
      "Epoch 37/60\n"
     ]
    },
    {
     "name": "stdout",
     "output_type": "stream",
     "text": [
      "300/300 [==============================] - 10s 34ms/step - loss: 0.2706 - accuracy: 0.9133 - val_loss: 0.5337 - val_accuracy: 0.8182\n",
      "\n",
      "Epoch 00037: val_accuracy did not improve from 0.87121\n",
      "Epoch 38/60\n",
      "300/300 [==============================] - 10s 34ms/step - loss: 0.2208 - accuracy: 0.9283 - val_loss: 1.0129 - val_accuracy: 0.7803\n",
      "\n",
      "Epoch 00038: val_accuracy did not improve from 0.87121\n",
      "Epoch 00038: early stopping\n"
     ]
    }
   ],
   "source": [
    "'''\n",
    "history = model.fit(datagen.flow(x_train,y_train, batch_size=batch_size),\n",
    "                              epochs = epochs, validation_data = (x_valid,y_valid),\n",
    "                    steps_per_epoch=x_train.shape[0] // batch_size , callbacks=[es,mc])\n",
    "'''"
   ]
  },
  {
   "cell_type": "code",
   "execution_count": 20,
   "metadata": {},
   "outputs": [
    {
     "name": "stdout",
     "output_type": "stream",
     "text": [
      "5/5 [==============================] - 2s 43ms/step - loss: 2.4199 - accuracy: 0.6615\n"
     ]
    }
   ],
   "source": [
    "test_eval = model.evaluate(x_test, y_test, verbose=1)"
   ]
  },
  {
   "cell_type": "code",
   "execution_count": 48,
   "metadata": {},
   "outputs": [
    {
     "name": "stdout",
     "output_type": "stream",
     "text": [
      "INFO:tensorflow:Assets written to: Model_cells_test1.h5py\\assets\n"
     ]
    }
   ],
   "source": [
    "model.save(\"Model_cells_test1_beforecheckpoint.h5py\")"
   ]
  },
  {
   "cell_type": "code",
   "execution_count": 82,
   "metadata": {},
   "outputs": [
    {
     "name": "stdout",
     "output_type": "stream",
     "text": [
      "INFO:tensorflow:Assets written to: Model_cells_test2_93.h5py\\assets\n",
      "5/5 [==============================] - 0s 44ms/step - loss: 1.5820 - accuracy: 0.7308\n"
     ]
    }
   ],
   "source": [
    "model.load_weights(checkpoint_filepath)\n",
    "model.save(\"Model_cells_test2_aftercheckpoint.h5py\")\n",
    "test_eval = model.evaluate(x_test, y_test, verbose=1)"
   ]
  },
  {
   "cell_type": "code",
   "execution_count": 81,
   "metadata": {},
   "outputs": [
    {
     "data": {
      "image/png": "[encoded data removed]",
      "text/plain": [
       "<Figure size 432x288 with 1 Axes>"
      ]
     },
     "metadata": {
      "needs_background": "light"
     },
     "output_type": "display_data"
    },
    {
     "data": {
      "image/png": "[encoded data removed]",
      "text/plain": [
       "<Figure size 432x288 with 1 Axes>"
      ]
     },
     "metadata": {
      "needs_background": "light"
     },
     "output_type": "display_data"
    }
   ],
   "source": [
    "accuracy = history.history['accuracy']\n",
    "val_accuracy = history.history['val_accuracy']\n",
    "loss = history.history['loss']\n",
    "val_loss = history.history['val_loss']\n",
    "epochs = range(len(accuracy))\n",
    "plt.plot(epochs, accuracy, 'bo', label='Training accuracy')\n",
    "plt.plot(epochs, val_accuracy, 'b', label='Validation accuracy')\n",
    "plt.title('Training and validation accuracy')\n",
    "plt.legend()\n",
    "plt.figure()\n",
    "plt.plot(epochs, loss, 'bo', label='Training loss')\n",
    "plt.plot(epochs, val_loss, 'b', label='Validation loss')\n",
    "plt.title('Training and validation loss')\n",
    "plt.legend()\n",
    "plt.show()"
   ]
  },
  {
   "cell_type": "code",
   "execution_count": 22,
   "metadata": {},
   "outputs": [],
   "source": [
    "predicted_classes_all = model.predict(x_test)\n",
    "predicted_classes_all = np.argmax(predicted_classes_all,axis=1)"
   ]
  },
  {
   "cell_type": "code",
   "execution_count": 23,
   "metadata": {},
   "outputs": [],
   "source": [
    "True_classes_all = np.argmax(y_test,axis = 1) "
   ]
  },
  {
   "cell_type": "code",
   "execution_count": 24,
   "metadata": {},
   "outputs": [
    {
     "name": "stdout",
     "output_type": "stream",
     "text": [
      "                     precision    recall  f1-score   support\n",
      "\n",
      "       Class: actin       0.87      0.62      0.72        21\n",
      "         Class: dna       1.00      1.00      1.00         9\n",
      "    Class: endosome       0.47      0.73      0.57        11\n",
      "          Class: er       0.72      0.93      0.81        14\n",
      "      Class: golgia       0.64      0.64      0.64        14\n",
      "      Class: golgpp       0.53      0.67      0.59        12\n",
      "    Class: lysosome       0.75      0.40      0.52        15\n",
      "Class: microtubules       0.36      0.50      0.42        10\n",
      "Class: mitochondria       0.88      0.64      0.74        11\n",
      "   Class: nucleolus       0.67      0.62      0.64        13\n",
      "\n",
      "           accuracy                           0.66       130\n",
      "          macro avg       0.69      0.67      0.67       130\n",
      "       weighted avg       0.70      0.66      0.66       130\n",
      "\n"
     ]
    }
   ],
   "source": [
    "target_names = [\"Class: {}\".format(Labels_String[i]) for i in range(10)]\n",
    "print(classification_report(True_classes_all, predicted_classes_all, target_names=target_names))"
   ]
  },
  {
   "cell_type": "code",
   "execution_count": 127,
   "metadata": {},
   "outputs": [
    {
     "name": "stdout",
     "output_type": "stream",
     "text": [
      "Found 121 correct labels\n",
      "Class: 0 is actin\n",
      "Class: 1 is dna\n",
      "Class: 2 is endosome\n",
      "Class: 3 is er\n",
      "Class: 4 is golgia\n",
      "Class: 5 is golgpp\n",
      "Class: 6 is lysosome\n",
      "Class: 7 is microtubules\n",
      "Class: 8 is mitochondria\n",
      "Class: 9 is nucleolus\n",
      "[['actin' '20']\n",
      " ['dna' '16']\n",
      " ['endosome' '6']\n",
      " ['er' '12']\n",
      " ['golgia' '13']\n",
      " ['golgpp' '5']\n",
      " ['lysosome' '10']\n",
      " ['microtubules' '15']\n",
      " ['mitochondria' '12']\n",
      " ['nucleolus' '12']]\n"
     ]
    },
    {
     "data": {
      "image/png": "[encoded data removed]",
      "text/plain": [
       "<Figure size 432x288 with 6 Axes>"
      ]
     },
     "metadata": {
      "needs_background": "light"
     },
     "output_type": "display_data"
    }
   ],
   "source": [
    "correct = np.where(predicted_classes_all==True_classes_all)[0]\n",
    "print (\"Found %d correct labels\" % len(correct))\n",
    "Labels_correct = [ ]\n",
    "for i in range(len(correct)):\n",
    "    Labels_correct.append(Labels_String[predicted_classes_all[correct[i]]])\n",
    "\n",
    "for i in range(len(Labels_String)):\n",
    "    print(\"Class: \" + str(i) + \" is \" + Labels_String[i])\n",
    "    \n",
    "string_list_unique = np.array(Labels_correct)\n",
    "\n",
    "(unique, counts) = np.unique(string_list_unique, return_counts=True)\n",
    "frequencies = np.asarray((unique, counts)).T\n",
    "\n",
    "print(frequencies)\n",
    "\n",
    "for i, correct in enumerate(correct[60:66]):\n",
    "    result=np.where(y_test[correct]==1)\n",
    "    plt.subplot(2,3,i+1)\n",
    "    plt.imshow(x_test[correct].reshape(382,382,1),cmap='gray', interpolation='none')\n",
    "    plt.title(\"Predicted {}, Class {}\".format(predicted_classes_all[correct],\n",
    "                                              result[0]))\n",
    "    plt.tight_layout()"
   ]
  },
  {
   "cell_type": "code",
   "execution_count": 25,
   "metadata": {},
   "outputs": [
    {
     "name": "stdout",
     "output_type": "stream",
     "text": [
      "Found 44 Incorrect labels\n",
      "[['actin' '2']\n",
      " ['endosome' '9']\n",
      " ['er' '5']\n",
      " ['golgia' '5']\n",
      " ['golgpp' '7']\n",
      " ['lysosome' '2']\n",
      " ['microtubules' '9']\n",
      " ['mitochondria' '1']\n",
      " ['nucleolus' '4']]\n"
     ]
    },
    {
     "data": {
      "image/png": "[encoded data removed]",
      "text/plain": [
       "<Figure size 432x288 with 6 Axes>"
      ]
     },
     "metadata": {
      "needs_background": "light"
     },
     "output_type": "display_data"
    }
   ],
   "source": [
    "Incorrect = np.where(predicted_classes_all!=True_classes_all)[0]\n",
    "print (\"Found %d Incorrect labels\" % len(Incorrect))\n",
    "Labels_Incorrect = [ ]\n",
    "for i in range(len(Incorrect)):\n",
    "    Labels_Incorrect.append(Labels_String[predicted_classes_all[Incorrect[i]]])\n",
    "string_list_unique = np.array(Labels_Incorrect)\n",
    "\n",
    "(unique, counts) = np.unique(string_list_unique, return_counts=True)\n",
    "frequencies = np.asarray((unique, counts)).T\n",
    "\n",
    "print(frequencies)\n",
    "\n",
    "\n",
    "for i, Incorrect in enumerate(Incorrect[:6]):\n",
    "    result=np.where(y_test[Incorrect]==1)\n",
    "    plt.subplot(2,3,i+1)\n",
    "    plt.imshow(x_test[Incorrect].reshape(382,382,1),cmap='gray', interpolation='none')\n",
    "    plt.title(\"Predicted {}, Class {}\".format(predicted_classes_all[Incorrect],result[0]))\n",
    "    plt.tight_layout()"
   ]
  },
  {
   "cell_type": "code",
   "execution_count": 137,
   "metadata": {},
   "outputs": [],
   "source": [
    "IsIncorrect = [ ]\n",
    "for i in range(len(True_classes_all)):\n",
    "    if True_classes_all[i] != predicted_classes_all[i]:\n",
    "        IsIncorrect.append(\"Incorrect Prediction\")\n",
    "    else:\n",
    "        IsIncorrect.append(\"---\")"
   ]
  },
  {
   "cell_type": "code",
   "execution_count": 138,
   "metadata": {},
   "outputs": [],
   "source": [
    "Labels_output_true = [ ]\n",
    "Labels_output_predicted = [ ]\n",
    "for i in True_classes_all:\n",
    "    Labels_output_true.append(Labels_String[i])\n",
    "    Labels_output_predicted.append(Labels_String[i])"
   ]
  },
  {
   "cell_type": "code",
   "execution_count": 139,
   "metadata": {},
   "outputs": [],
   "source": [
    "data = {'Predicted Labels': Labels_output_predicted ,\n",
    "        'True Labels': Labels_output_true ,\n",
    "        'Is Predicted Label Incorrect?': IsIncorrect}\n",
    "df = pd.DataFrame(data)\n",
    "df.index = np.arange(1, len(df)+1)"
   ]
  },
  {
   "cell_type": "code",
   "execution_count": 140,
   "metadata": {},
   "outputs": [],
   "source": [
    "df.to_csv(\"TestResults_Cells_NotAugmented.csv\", index_label = \"Index\")"
   ]
  }
 ],
 "metadata": {
  "kernelspec": {
   "display_name": "usingGPU",
   "language": "python",
   "name": "usinggpu"
  },
  "language_info": {
   "codemirror_mode": {
    "name": "ipython",
    "version": 3
   },
   "file_extension": ".py",
   "mimetype": "text/x-python",
   "name": "python",
   "nbconvert_exporter": "python",
   "pygments_lexer": "ipython3",
   "version": "3.7.10"
  }
 },
 "nbformat": 4,
 "nbformat_minor": 4
}
