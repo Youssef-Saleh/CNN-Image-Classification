{
  "nbformat": 4,
  "nbformat_minor": 0,
  "metadata": {
    "colab": {
      "name": "Untitled1.ipynb",
      "provenance": [],
      "collapsed_sections": []
    },
    "kernelspec": {
      "display_name": "Python 3",
      "name": "python3"
    },
    "language_info": {
      "name": "python"
    },
    "accelerator": "GPU"
  },
  "cells": [
    {
      "cell_type": "code",
      "metadata": {
        "colab": {
          "base_uri": "https://localhost:8080/"
        },
        "id": "E4IJlEHiIhEQ",
        "outputId": "0f373639-e85d-48af-8ed7-2deb39089772"
      },
      "source": [
        "from google.colab import drive\n",
        "drive.mount('/content/drive')"
      ],
      "execution_count": 1,
      "outputs": [
        {
          "output_type": "stream",
          "text": [
            "Drive already mounted at /content/drive; to attempt to forcibly remount, call drive.mount(\"/content/drive\", force_remount=True).\n"
          ],
          "name": "stdout"
        }
      ]
    },
    {
      "cell_type": "code",
      "metadata": {
        "id": "OW5wFT1bI_Eq"
      },
      "source": [
        "import os\n",
        "import re\n",
        "import sys\n",
        "\n",
        "import skimage.io as skio\n",
        "import matplotlib.pyplot as plt\n",
        "\n",
        "import numpy as np\n",
        "import os\n",
        "import sys\n",
        "from math import sqrt\n",
        "\n",
        "import cv2\n",
        "import pandas as pd\n",
        "import albumentations as A\n",
        "\n",
        "from tensorflow.keras.callbacks import EarlyStopping\n",
        "from sklearn.preprocessing import OneHotEncoder\n",
        "from sklearn.metrics import classification_report, confusion_matrix , accuracy_score\n",
        "from sklearn.model_selection import train_test_split\n",
        "from scipy.special import expit, logit\n",
        "from skimage.transform import rescale, resize, downscale_local_mean\n",
        "\n",
        "import time\n",
        "\n",
        "from PIL import Image\n",
        "from skimage.feature import hog\n",
        "\n",
        "from sklearn.metrics import confusion_matrix\n",
        "import itertools\n",
        "\n",
        "import tensorflow as tf\n",
        "from tensorflow import keras\n",
        "from keras.utils import generic_utils\n",
        "from keras.utils.np_utils import to_categorical # convert to one-hot-encoding\n",
        "from tensorflow.keras.models import Sequential\n",
        "from keras.layers import Dense, Dropout, Flatten, Conv2D, MaxPool2D , BatchNormalization\n",
        "from keras.regularizers import l2\n",
        "from tensorflow.keras.preprocessing.image import ImageDataGenerator\n",
        "from keras.callbacks import ReduceLROnPlateau\n",
        "from tensorflow.keras.optimizers import Adadelta,Adam\n",
        "\n",
        "from sklearn.metrics import classification_report\n",
        "\n",
        "import seaborn as sns"
      ],
      "execution_count": 2,
      "outputs": []
    },
    {
      "cell_type": "code",
      "metadata": {
        "id": "887FYs6rI_Ww"
      },
      "source": [
        "def ReadImageFolder(path):\n",
        "    filepaths = [os.path.join(r,file) for r,d,f in os.walk( path) for file in f]\n",
        "    ext = (\".tif\",\".TIF\",\".jpg\")\n",
        "    filepaths = [x for x in filepaths if x.endswith(ext)]\n",
        "    return filepaths"
      ],
      "execution_count": 3,
      "outputs": []
    },
    {
      "cell_type": "code",
      "metadata": {
        "colab": {
          "base_uri": "https://localhost:8080/"
        },
        "id": "4QqAXm6MI_ja",
        "outputId": "d9be18ff-94d5-4467-c368-93455777eacd"
      },
      "source": [
        "Labels = [ ]\n",
        "Labels_String = [ \"Motorbikes\" ,\"helicopter\",\"airplanes\",\"brain\", \"car_side\",\"panda\",\n",
        "                 \"chandelier\", \"cougar_face\",\"crab\",\"grand_piano\"]\n",
        "\n",
        "path = \"/content/drive/MyDrive/ColabNotebooks/Dataset2Pattern/Motorbikes\"\n",
        "Motorbikes = ReadImageFolder(path)\n",
        "for i in range(len(Motorbikes)):\n",
        "  Labels.append(0)\n",
        "path = \"/content/drive/MyDrive/ColabNotebooks/Dataset2Pattern/helicopter\"\n",
        "helicopter = ReadImageFolder(path)\n",
        "for i in range(len(helicopter)):\n",
        "  Labels.append(1)\n",
        "\n",
        "path = \"/content/drive/MyDrive/ColabNotebooks/Dataset2Pattern/airplanes\"\n",
        "airplanes = ReadImageFolder(path)\n",
        "for i in range(len(airplanes)):\n",
        "  Labels.append(2)\n",
        "\n",
        "path = \"/content/drive/MyDrive/ColabNotebooks/Dataset2Pattern/brain\"\n",
        "brain = ReadImageFolder(path)\n",
        "for i in range(len(brain)):\n",
        "  Labels.append(3)\n",
        "\n",
        "path = \"/content/drive/MyDrive/ColabNotebooks/Dataset2Pattern/car_side\"\n",
        "car_side = ReadImageFolder(path)\n",
        "for i in range(len(car_side)):\n",
        "  Labels.append(4)\n",
        "\n",
        "path = \"/content/drive/MyDrive/ColabNotebooks/Dataset2Pattern/panda\"\n",
        "panda = ReadImageFolder(path)\n",
        "for i in range(len(panda)):\n",
        "  Labels.append(5)\n",
        "\n",
        "path = \"/content/drive/MyDrive/ColabNotebooks/Dataset2Pattern/chandelier\"\n",
        "chandelier = ReadImageFolder(path)\n",
        "for i in range(len(chandelier)):\n",
        "  Labels.append(6)\n",
        "\n",
        "\n",
        "path = \"/content/drive/MyDrive/ColabNotebooks/Dataset2Pattern/cougar_face\"\n",
        "cougar_face = ReadImageFolder(path)\n",
        "for i in range(len(cougar_face)):\n",
        "  Labels.append(7)\n",
        "\n",
        "path = \"/content/drive/MyDrive/ColabNotebooks/Dataset2Pattern/crab\"\n",
        "crab = ReadImageFolder(path)\n",
        "for i in range(len(crab)):\n",
        "  Labels.append(8)\n",
        "\n",
        "path = \"/content/drive/MyDrive/ColabNotebooks/Dataset2Pattern/grand_piano\"\n",
        "grand_piano = ReadImageFolder(path)\n",
        "for i in range(len(grand_piano)):\n",
        "  Labels.append(9)\n",
        "\n",
        "\n",
        "Paths_Array= [ Motorbikes ,helicopter,airplanes,brain, car_side,panda, chandelier, cougar_face,crab,grand_piano]\n",
        "\n",
        "print(Paths_Array)"
      ],
      "execution_count": 4,
      "outputs": [
        {
          "output_type": "stream",
          "text": [
            "[['/content/drive/MyDrive/ColabNotebooks/DatasetPattern/actin/actin_001.tif', '/content/drive/MyDrive/ColabNotebooks/DatasetPattern/actin/actin_002.tif', '/content/drive/MyDrive/ColabNotebooks/DatasetPattern/actin/actin_072.tif', '/content/drive/MyDrive/ColabNotebooks/DatasetPattern/actin/actin_067.tif', '/content/drive/MyDrive/ColabNotebooks/DatasetPattern/actin/actin_070.tif', '/content/drive/MyDrive/ColabNotebooks/DatasetPattern/actin/actin_009.tif', '/content/drive/MyDrive/ColabNotebooks/DatasetPattern/actin/actin_007.tif', '/content/drive/MyDrive/ColabNotebooks/DatasetPattern/actin/actin_068.tif', '/content/drive/MyDrive/ColabNotebooks/DatasetPattern/actin/actin_011.tif', '/content/drive/MyDrive/ColabNotebooks/DatasetPattern/actin/actin_004.tif', '/content/drive/MyDrive/ColabNotebooks/DatasetPattern/actin/actin_069.tif', '/content/drive/MyDrive/ColabNotebooks/DatasetPattern/actin/actin_010.tif', '/content/drive/MyDrive/ColabNotebooks/DatasetPattern/actin/actin_071.tif', '/content/drive/MyDrive/ColabNotebooks/DatasetPattern/actin/actin_005.tif', '/content/drive/MyDrive/ColabNotebooks/DatasetPattern/actin/actin_003.tif', '/content/drive/MyDrive/ColabNotebooks/DatasetPattern/actin/actin_006.tif', '/content/drive/MyDrive/ColabNotebooks/DatasetPattern/actin/actin_012.tif', '/content/drive/MyDrive/ColabNotebooks/DatasetPattern/actin/actin_008.tif', '/content/drive/MyDrive/ColabNotebooks/DatasetPattern/actin/actin_013.tif', '/content/drive/MyDrive/ColabNotebooks/DatasetPattern/actin/actin_086.tif', '/content/drive/MyDrive/ColabNotebooks/DatasetPattern/actin/actin_083.tif', '/content/drive/MyDrive/ColabNotebooks/DatasetPattern/actin/actin_082.tif', '/content/drive/MyDrive/ColabNotebooks/DatasetPattern/actin/actin_085.tif', '/content/drive/MyDrive/ColabNotebooks/DatasetPattern/actin/actin_084.tif', '/content/drive/MyDrive/ColabNotebooks/DatasetPattern/actin/actin_078.tif', '/content/drive/MyDrive/ColabNotebooks/DatasetPattern/actin/actin_080.tif', '/content/drive/MyDrive/ColabNotebooks/DatasetPattern/actin/actin_074.tif', '/content/drive/MyDrive/ColabNotebooks/DatasetPattern/actin/actin_077.tif', '/content/drive/MyDrive/ColabNotebooks/DatasetPattern/actin/actin_073.tif', '/content/drive/MyDrive/ColabNotebooks/DatasetPattern/actin/actin_088.tif', '/content/drive/MyDrive/ColabNotebooks/DatasetPattern/actin/actin_089.tif', '/content/drive/MyDrive/ColabNotebooks/DatasetPattern/actin/actin_087.tif', '/content/drive/MyDrive/ColabNotebooks/DatasetPattern/actin/actin_081.tif', '/content/drive/MyDrive/ColabNotebooks/DatasetPattern/actin/actin_090.tif', '/content/drive/MyDrive/ColabNotebooks/DatasetPattern/actin/actin_076.tif', '/content/drive/MyDrive/ColabNotebooks/DatasetPattern/actin/actin_075.tif', '/content/drive/MyDrive/ColabNotebooks/DatasetPattern/actin/actin_079.tif', '/content/drive/MyDrive/ColabNotebooks/DatasetPattern/actin/actin_014.tif', '/content/drive/MyDrive/ColabNotebooks/DatasetPattern/actin/actin_095.tif', '/content/drive/MyDrive/ColabNotebooks/DatasetPattern/actin/actin_097.tif', '/content/drive/MyDrive/ColabNotebooks/DatasetPattern/actin/actin_022.tif', '/content/drive/MyDrive/ColabNotebooks/DatasetPattern/actin/actin_093.tif', '/content/drive/MyDrive/ColabNotebooks/DatasetPattern/actin/actin_017.tif', '/content/drive/MyDrive/ColabNotebooks/DatasetPattern/actin/actin_016.tif', '/content/drive/MyDrive/ColabNotebooks/DatasetPattern/actin/actin_098.tif', '/content/drive/MyDrive/ColabNotebooks/DatasetPattern/actin/actin_091.tif', '/content/drive/MyDrive/ColabNotebooks/DatasetPattern/actin/actin_019.tif', '/content/drive/MyDrive/ColabNotebooks/DatasetPattern/actin/actin_015.tif', '/content/drive/MyDrive/ColabNotebooks/DatasetPattern/actin/actin_094.tif', '/content/drive/MyDrive/ColabNotebooks/DatasetPattern/actin/actin_020.tif', '/content/drive/MyDrive/ColabNotebooks/DatasetPattern/actin/actin_096.tif', '/content/drive/MyDrive/ColabNotebooks/DatasetPattern/actin/actin_021.tif', '/content/drive/MyDrive/ColabNotebooks/DatasetPattern/actin/actin_018.tif', '/content/drive/MyDrive/ColabNotebooks/DatasetPattern/actin/actin_092.tif', '/content/drive/MyDrive/ColabNotebooks/DatasetPattern/actin/actin_033.tif', '/content/drive/MyDrive/ColabNotebooks/DatasetPattern/actin/actin_037.tif', '/content/drive/MyDrive/ColabNotebooks/DatasetPattern/actin/actin_032.tif', '/content/drive/MyDrive/ColabNotebooks/DatasetPattern/actin/actin_027.tif', '/content/drive/MyDrive/ColabNotebooks/DatasetPattern/actin/actin_026.tif', '/content/drive/MyDrive/ColabNotebooks/DatasetPattern/actin/actin_025.tif', '/content/drive/MyDrive/ColabNotebooks/DatasetPattern/actin/actin_028.tif', '/content/drive/MyDrive/ColabNotebooks/DatasetPattern/actin/actin_023.tif', '/content/drive/MyDrive/ColabNotebooks/DatasetPattern/actin/actin_038.tif', '/content/drive/MyDrive/ColabNotebooks/DatasetPattern/actin/actin_030.tif', '/content/drive/MyDrive/ColabNotebooks/DatasetPattern/actin/actin_040.tif', '/content/drive/MyDrive/ColabNotebooks/DatasetPattern/actin/actin_036.tif', '/content/drive/MyDrive/ColabNotebooks/DatasetPattern/actin/actin_039.tif', '/content/drive/MyDrive/ColabNotebooks/DatasetPattern/actin/actin_029.tif', '/content/drive/MyDrive/ColabNotebooks/DatasetPattern/actin/actin_035.tif', '/content/drive/MyDrive/ColabNotebooks/DatasetPattern/actin/actin_031.tif', '/content/drive/MyDrive/ColabNotebooks/DatasetPattern/actin/actin_024.tif', '/content/drive/MyDrive/ColabNotebooks/DatasetPattern/actin/actin_034.tif', '/content/drive/MyDrive/ColabNotebooks/DatasetPattern/actin/actin_051.tif', '/content/drive/MyDrive/ColabNotebooks/DatasetPattern/actin/actin_054.tif', '/content/drive/MyDrive/ColabNotebooks/DatasetPattern/actin/actin_053.tif', '/content/drive/MyDrive/ColabNotebooks/DatasetPattern/actin/actin_050.tif', '/content/drive/MyDrive/ColabNotebooks/DatasetPattern/actin/actin_055.tif', '/content/drive/MyDrive/ColabNotebooks/DatasetPattern/actin/actin_048.tif', '/content/drive/MyDrive/ColabNotebooks/DatasetPattern/actin/actin_047.tif', '/content/drive/MyDrive/ColabNotebooks/DatasetPattern/actin/actin_041.tif', '/content/drive/MyDrive/ColabNotebooks/DatasetPattern/actin/actin_057.tif', '/content/drive/MyDrive/ColabNotebooks/DatasetPattern/actin/actin_052.tif', '/content/drive/MyDrive/ColabNotebooks/DatasetPattern/actin/actin_044.tif', '/content/drive/MyDrive/ColabNotebooks/DatasetPattern/actin/actin_045.tif', '/content/drive/MyDrive/ColabNotebooks/DatasetPattern/actin/actin_049.tif', '/content/drive/MyDrive/ColabNotebooks/DatasetPattern/actin/actin_046.tif', '/content/drive/MyDrive/ColabNotebooks/DatasetPattern/actin/actin_042.tif', '/content/drive/MyDrive/ColabNotebooks/DatasetPattern/actin/actin_056.tif', '/content/drive/MyDrive/ColabNotebooks/DatasetPattern/actin/actin_043.tif', '/content/drive/MyDrive/ColabNotebooks/DatasetPattern/actin/actin_066.tif', '/content/drive/MyDrive/ColabNotebooks/DatasetPattern/actin/actin_058.tif', '/content/drive/MyDrive/ColabNotebooks/DatasetPattern/actin/actin_059.tif', '/content/drive/MyDrive/ColabNotebooks/DatasetPattern/actin/actin_065.tif', '/content/drive/MyDrive/ColabNotebooks/DatasetPattern/actin/actin_061.tif', '/content/drive/MyDrive/ColabNotebooks/DatasetPattern/actin/actin_062.tif', '/content/drive/MyDrive/ColabNotebooks/DatasetPattern/actin/actin_063.tif', '/content/drive/MyDrive/ColabNotebooks/DatasetPattern/actin/actin_060.tif', '/content/drive/MyDrive/ColabNotebooks/DatasetPattern/actin/actin_064.tif'], ['/content/drive/MyDrive/ColabNotebooks/DatasetPattern/dna/DNA_003.TIF', '/content/drive/MyDrive/ColabNotebooks/DatasetPattern/dna/DNA_008.TIF', '/content/drive/MyDrive/ColabNotebooks/DatasetPattern/dna/DNA_007.TIF', '/content/drive/MyDrive/ColabNotebooks/DatasetPattern/dna/DNA_001.TIF', '/content/drive/MyDrive/ColabNotebooks/DatasetPattern/dna/DNA_006.TIF', '/content/drive/MyDrive/ColabNotebooks/DatasetPattern/dna/DNA_002.TIF', '/content/drive/MyDrive/ColabNotebooks/DatasetPattern/dna/DNA_004.TIF', '/content/drive/MyDrive/ColabNotebooks/DatasetPattern/dna/DNA_005.TIF', '/content/drive/MyDrive/ColabNotebooks/DatasetPattern/dna/DNA_013.TIF', '/content/drive/MyDrive/ColabNotebooks/DatasetPattern/dna/DNA_070.TIF', '/content/drive/MyDrive/ColabNotebooks/DatasetPattern/dna/DNA_010.TIF', '/content/drive/MyDrive/ColabNotebooks/DatasetPattern/dna/DNA_066.TIF', '/content/drive/MyDrive/ColabNotebooks/DatasetPattern/dna/DNA_015.TIF', '/content/drive/MyDrive/ColabNotebooks/DatasetPattern/dna/DNA_064.TIF', '/content/drive/MyDrive/ColabNotebooks/DatasetPattern/dna/DNA_068.TIF', '/content/drive/MyDrive/ColabNotebooks/DatasetPattern/dna/DNA_062.TIF', '/content/drive/MyDrive/ColabNotebooks/DatasetPattern/dna/DNA_065.TIF', '/content/drive/MyDrive/ColabNotebooks/DatasetPattern/dna/DNA_063.TIF', '/content/drive/MyDrive/ColabNotebooks/DatasetPattern/dna/DNA_067.TIF', '/content/drive/MyDrive/ColabNotebooks/DatasetPattern/dna/DNA_061.TIF', '/content/drive/MyDrive/ColabNotebooks/DatasetPattern/dna/DNA_009.TIF', '/content/drive/MyDrive/ColabNotebooks/DatasetPattern/dna/DNA_069.TIF', '/content/drive/MyDrive/ColabNotebooks/DatasetPattern/dna/DNA_014.TIF', '/content/drive/MyDrive/ColabNotebooks/DatasetPattern/dna/DNA_011.TIF', '/content/drive/MyDrive/ColabNotebooks/DatasetPattern/dna/DNA_012.TIF', '/content/drive/MyDrive/ColabNotebooks/DatasetPattern/dna/DNA_016.TIF', '/content/drive/MyDrive/ColabNotebooks/DatasetPattern/dna/DNA_085.TIF', '/content/drive/MyDrive/ColabNotebooks/DatasetPattern/dna/DNA_073.TIF', '/content/drive/MyDrive/ColabNotebooks/DatasetPattern/dna/DNA_077.TIF', '/content/drive/MyDrive/ColabNotebooks/DatasetPattern/dna/DNA_080.TIF', '/content/drive/MyDrive/ColabNotebooks/DatasetPattern/dna/DNA_084.TIF', '/content/drive/MyDrive/ColabNotebooks/DatasetPattern/dna/DNA_081.TIF', '/content/drive/MyDrive/ColabNotebooks/DatasetPattern/dna/DNA_079.TIF', '/content/drive/MyDrive/ColabNotebooks/DatasetPattern/dna/DNA_075.TIF', '/content/drive/MyDrive/ColabNotebooks/DatasetPattern/dna/DNA_078.TIF', '/content/drive/MyDrive/ColabNotebooks/DatasetPattern/dna/DNA_086.TIF', '/content/drive/MyDrive/ColabNotebooks/DatasetPattern/dna/DNA_076.TIF', '/content/drive/MyDrive/ColabNotebooks/DatasetPattern/dna/DNA_083.TIF', '/content/drive/MyDrive/ColabNotebooks/DatasetPattern/dna/DNA_074.TIF', '/content/drive/MyDrive/ColabNotebooks/DatasetPattern/dna/DNA_082.TIF', '/content/drive/MyDrive/ColabNotebooks/DatasetPattern/dna/DNA_072.TIF', '/content/drive/MyDrive/ColabNotebooks/DatasetPattern/dna/DNA_087.TIF', '/content/drive/MyDrive/ColabNotebooks/DatasetPattern/dna/DNA_071.TIF', '/content/drive/MyDrive/ColabNotebooks/DatasetPattern/dna/DNA_019.TIF', '/content/drive/MyDrive/ColabNotebooks/DatasetPattern/dna/DNA_031.TIF', '/content/drive/MyDrive/ColabNotebooks/DatasetPattern/dna/DNA_020.TIF', '/content/drive/MyDrive/ColabNotebooks/DatasetPattern/dna/DNA_032.TIF', '/content/drive/MyDrive/ColabNotebooks/DatasetPattern/dna/DNA_026.TIF', '/content/drive/MyDrive/ColabNotebooks/DatasetPattern/dna/DNA_018.TIF', '/content/drive/MyDrive/ColabNotebooks/DatasetPattern/dna/DNA_029.TIF', '/content/drive/MyDrive/ColabNotebooks/DatasetPattern/dna/DNA_033.TIF', '/content/drive/MyDrive/ColabNotebooks/DatasetPattern/dna/DNA_021.TIF', '/content/drive/MyDrive/ColabNotebooks/DatasetPattern/dna/DNA_030.TIF', '/content/drive/MyDrive/ColabNotebooks/DatasetPattern/dna/DNA_017.TIF', '/content/drive/MyDrive/ColabNotebooks/DatasetPattern/dna/DNA_025.TIF', '/content/drive/MyDrive/ColabNotebooks/DatasetPattern/dna/DNA_022.TIF', '/content/drive/MyDrive/ColabNotebooks/DatasetPattern/dna/DNA_023.TIF', '/content/drive/MyDrive/ColabNotebooks/DatasetPattern/dna/DNA_024.TIF', '/content/drive/MyDrive/ColabNotebooks/DatasetPattern/dna/DNA_027.TIF', '/content/drive/MyDrive/ColabNotebooks/DatasetPattern/dna/DNA_028.TIF', '/content/drive/MyDrive/ColabNotebooks/DatasetPattern/dna/DNA_050.TIF', '/content/drive/MyDrive/ColabNotebooks/DatasetPattern/dna/DNA_039.TIF', '/content/drive/MyDrive/ColabNotebooks/DatasetPattern/dna/DNA_041.TIF', '/content/drive/MyDrive/ColabNotebooks/DatasetPattern/dna/DNA_044.TIF', '/content/drive/MyDrive/ColabNotebooks/DatasetPattern/dna/DNA_040.TIF', '/content/drive/MyDrive/ColabNotebooks/DatasetPattern/dna/DNA_047.TIF', '/content/drive/MyDrive/ColabNotebooks/DatasetPattern/dna/DNA_035.TIF', '/content/drive/MyDrive/ColabNotebooks/DatasetPattern/dna/DNA_043.TIF', '/content/drive/MyDrive/ColabNotebooks/DatasetPattern/dna/DNA_045.TIF', '/content/drive/MyDrive/ColabNotebooks/DatasetPattern/dna/DNA_038.TIF', '/content/drive/MyDrive/ColabNotebooks/DatasetPattern/dna/DNA_051.TIF', '/content/drive/MyDrive/ColabNotebooks/DatasetPattern/dna/DNA_036.TIF', '/content/drive/MyDrive/ColabNotebooks/DatasetPattern/dna/DNA_048.TIF', '/content/drive/MyDrive/ColabNotebooks/DatasetPattern/dna/DNA_049.TIF', '/content/drive/MyDrive/ColabNotebooks/DatasetPattern/dna/DNA_034.TIF', '/content/drive/MyDrive/ColabNotebooks/DatasetPattern/dna/DNA_046.TIF', '/content/drive/MyDrive/ColabNotebooks/DatasetPattern/dna/DNA_037.TIF', '/content/drive/MyDrive/ColabNotebooks/DatasetPattern/dna/DNA_042.TIF', '/content/drive/MyDrive/ColabNotebooks/DatasetPattern/dna/DNA_056.TIF', '/content/drive/MyDrive/ColabNotebooks/DatasetPattern/dna/DNA_059.TIF', '/content/drive/MyDrive/ColabNotebooks/DatasetPattern/dna/DNA_057.TIF', '/content/drive/MyDrive/ColabNotebooks/DatasetPattern/dna/DNA_053.TIF', '/content/drive/MyDrive/ColabNotebooks/DatasetPattern/dna/DNA_052.TIF', '/content/drive/MyDrive/ColabNotebooks/DatasetPattern/dna/DNA_055.TIF', '/content/drive/MyDrive/ColabNotebooks/DatasetPattern/dna/DNA_054.TIF', '/content/drive/MyDrive/ColabNotebooks/DatasetPattern/dna/DNA_058.TIF', '/content/drive/MyDrive/ColabNotebooks/DatasetPattern/dna/DNA_060.TIF'], ['/content/drive/MyDrive/ColabNotebooks/DatasetPattern/endosome/endosome_008.tif', '/content/drive/MyDrive/ColabNotebooks/DatasetPattern/endosome/endosome_005.tif', '/content/drive/MyDrive/ColabNotebooks/DatasetPattern/endosome/endosome_003.tif', '/content/drive/MyDrive/ColabNotebooks/DatasetPattern/endosome/endosome_006.tif', '/content/drive/MyDrive/ColabNotebooks/DatasetPattern/endosome/endosome_007.tif', '/content/drive/MyDrive/ColabNotebooks/DatasetPattern/endosome/endosome_001.tif', '/content/drive/MyDrive/ColabNotebooks/DatasetPattern/endosome/endosome_004.tif', '/content/drive/MyDrive/ColabNotebooks/DatasetPattern/endosome/endosome_002.tif', '/content/drive/MyDrive/ColabNotebooks/DatasetPattern/endosome/endosome_021 (1).tif', '/content/drive/MyDrive/ColabNotebooks/DatasetPattern/endosome/endosome_023 (1).tif', '/content/drive/MyDrive/ColabNotebooks/DatasetPattern/endosome/endosome_022 (1).tif', '/content/drive/MyDrive/ColabNotebooks/DatasetPattern/endosome/endosome_014.tif', '/content/drive/MyDrive/ColabNotebooks/DatasetPattern/endosome/endosome_020.tif', '/content/drive/MyDrive/ColabNotebooks/DatasetPattern/endosome/endosome_009.tif', '/content/drive/MyDrive/ColabNotebooks/DatasetPattern/endosome/endosome_017.tif', '/content/drive/MyDrive/ColabNotebooks/DatasetPattern/endosome/endosome_019.tif', '/content/drive/MyDrive/ColabNotebooks/DatasetPattern/endosome/endosome_025 (1).tif', '/content/drive/MyDrive/ColabNotebooks/DatasetPattern/endosome/endosome_010.tif', '/content/drive/MyDrive/ColabNotebooks/DatasetPattern/endosome/endosome_024 (1).tif', '/content/drive/MyDrive/ColabNotebooks/DatasetPattern/endosome/endosome_023.tif', '/content/drive/MyDrive/ColabNotebooks/DatasetPattern/endosome/endosome_012.tif', '/content/drive/MyDrive/ColabNotebooks/DatasetPattern/endosome/endosome_016.tif', '/content/drive/MyDrive/ColabNotebooks/DatasetPattern/endosome/endosome_024.tif', '/content/drive/MyDrive/ColabNotebooks/DatasetPattern/endosome/endosome_018.tif', '/content/drive/MyDrive/ColabNotebooks/DatasetPattern/endosome/endosome_021.tif', '/content/drive/MyDrive/ColabNotebooks/DatasetPattern/endosome/endosome_013.tif', '/content/drive/MyDrive/ColabNotebooks/DatasetPattern/endosome/endosome_011.tif', '/content/drive/MyDrive/ColabNotebooks/DatasetPattern/endosome/endosome_022.tif', '/content/drive/MyDrive/ColabNotebooks/DatasetPattern/endosome/endosome_025.tif', '/content/drive/MyDrive/ColabNotebooks/DatasetPattern/endosome/endosome_015.tif', '/content/drive/MyDrive/ColabNotebooks/DatasetPattern/endosome/endosome_034.tif', '/content/drive/MyDrive/ColabNotebooks/DatasetPattern/endosome/endosome_027 (1).tif', '/content/drive/MyDrive/ColabNotebooks/DatasetPattern/endosome/endosome_031.tif', '/content/drive/MyDrive/ColabNotebooks/DatasetPattern/endosome/endosome_035.tif', '/content/drive/MyDrive/ColabNotebooks/DatasetPattern/endosome/endosome_040.tif', '/content/drive/MyDrive/ColabNotebooks/DatasetPattern/endosome/endosome_039.tif', '/content/drive/MyDrive/ColabNotebooks/DatasetPattern/endosome/endosome_030.tif', '/content/drive/MyDrive/ColabNotebooks/DatasetPattern/endosome/endosome_033.tif', '/content/drive/MyDrive/ColabNotebooks/DatasetPattern/endosome/endosome_029 (1).tif', '/content/drive/MyDrive/ColabNotebooks/DatasetPattern/endosome/endosome_029.tif', '/content/drive/MyDrive/ColabNotebooks/DatasetPattern/endosome/endosome_028 (1).tif', '/content/drive/MyDrive/ColabNotebooks/DatasetPattern/endosome/endosome_042.tif', '/content/drive/MyDrive/ColabNotebooks/DatasetPattern/endosome/endosome_041.tif', '/content/drive/MyDrive/ColabNotebooks/DatasetPattern/endosome/endosome_032.tif', '/content/drive/MyDrive/ColabNotebooks/DatasetPattern/endosome/endosome_026 (1).tif', '/content/drive/MyDrive/ColabNotebooks/DatasetPattern/endosome/endosome_027.tif', '/content/drive/MyDrive/ColabNotebooks/DatasetPattern/endosome/endosome_036.tif', '/content/drive/MyDrive/ColabNotebooks/DatasetPattern/endosome/endosome_043.tif', '/content/drive/MyDrive/ColabNotebooks/DatasetPattern/endosome/endosome_037.tif', '/content/drive/MyDrive/ColabNotebooks/DatasetPattern/endosome/endosome_026.tif', '/content/drive/MyDrive/ColabNotebooks/DatasetPattern/endosome/endosome_028.tif', '/content/drive/MyDrive/ColabNotebooks/DatasetPattern/endosome/endosome_038.tif', '/content/drive/MyDrive/ColabNotebooks/DatasetPattern/endosome/endosome_050.tif', '/content/drive/MyDrive/ColabNotebooks/DatasetPattern/endosome/endosome_056.tif', '/content/drive/MyDrive/ColabNotebooks/DatasetPattern/endosome/endosome_044.tif', '/content/drive/MyDrive/ColabNotebooks/DatasetPattern/endosome/endosome_054.tif', '/content/drive/MyDrive/ColabNotebooks/DatasetPattern/endosome/endosome_047.tif', '/content/drive/MyDrive/ColabNotebooks/DatasetPattern/endosome/endosome_053.tif', '/content/drive/MyDrive/ColabNotebooks/DatasetPattern/endosome/endosome_057.tif', '/content/drive/MyDrive/ColabNotebooks/DatasetPattern/endosome/endosome_059.tif', '/content/drive/MyDrive/ColabNotebooks/DatasetPattern/endosome/endosome_046.tif', '/content/drive/MyDrive/ColabNotebooks/DatasetPattern/endosome/endosome_058.tif', '/content/drive/MyDrive/ColabNotebooks/DatasetPattern/endosome/endosome_052.tif', '/content/drive/MyDrive/ColabNotebooks/DatasetPattern/endosome/endosome_045.tif', '/content/drive/MyDrive/ColabNotebooks/DatasetPattern/endosome/endosome_051.tif', '/content/drive/MyDrive/ColabNotebooks/DatasetPattern/endosome/endosome_049.tif', '/content/drive/MyDrive/ColabNotebooks/DatasetPattern/endosome/endosome_048.tif', '/content/drive/MyDrive/ColabNotebooks/DatasetPattern/endosome/endosome_060.tif', '/content/drive/MyDrive/ColabNotebooks/DatasetPattern/endosome/endosome_055.tif', '/content/drive/MyDrive/ColabNotebooks/DatasetPattern/endosome/endosome_068.tif', '/content/drive/MyDrive/ColabNotebooks/DatasetPattern/endosome/endosome_070.tif', '/content/drive/MyDrive/ColabNotebooks/DatasetPattern/endosome/endosome_061.tif', '/content/drive/MyDrive/ColabNotebooks/DatasetPattern/endosome/endosome_075.tif', '/content/drive/MyDrive/ColabNotebooks/DatasetPattern/endosome/endosome_073.tif', '/content/drive/MyDrive/ColabNotebooks/DatasetPattern/endosome/endosome_066.tif', '/content/drive/MyDrive/ColabNotebooks/DatasetPattern/endosome/endosome_072.tif', '/content/drive/MyDrive/ColabNotebooks/DatasetPattern/endosome/endosome_069.tif', '/content/drive/MyDrive/ColabNotebooks/DatasetPattern/endosome/endosome_063.tif', '/content/drive/MyDrive/ColabNotebooks/DatasetPattern/endosome/endosome_076.tif', '/content/drive/MyDrive/ColabNotebooks/DatasetPattern/endosome/endosome_074.tif', '/content/drive/MyDrive/ColabNotebooks/DatasetPattern/endosome/endosome_067.tif', '/content/drive/MyDrive/ColabNotebooks/DatasetPattern/endosome/endosome_065.tif', '/content/drive/MyDrive/ColabNotebooks/DatasetPattern/endosome/endosome_077.tif', '/content/drive/MyDrive/ColabNotebooks/DatasetPattern/endosome/endosome_064.tif', '/content/drive/MyDrive/ColabNotebooks/DatasetPattern/endosome/endosome_071.tif', '/content/drive/MyDrive/ColabNotebooks/DatasetPattern/endosome/endosome_062.tif', '/content/drive/MyDrive/ColabNotebooks/DatasetPattern/endosome/endosome_088.tif', '/content/drive/MyDrive/ColabNotebooks/DatasetPattern/endosome/endosome_083.tif', '/content/drive/MyDrive/ColabNotebooks/DatasetPattern/endosome/endosome_090.tif', '/content/drive/MyDrive/ColabNotebooks/DatasetPattern/endosome/endosome_081.tif', '/content/drive/MyDrive/ColabNotebooks/DatasetPattern/endosome/endosome_084.tif', '/content/drive/MyDrive/ColabNotebooks/DatasetPattern/endosome/endosome_091.tif', '/content/drive/MyDrive/ColabNotebooks/DatasetPattern/endosome/endosome_082.tif', '/content/drive/MyDrive/ColabNotebooks/DatasetPattern/endosome/endosome_078.tif', '/content/drive/MyDrive/ColabNotebooks/DatasetPattern/endosome/endosome_079.tif', '/content/drive/MyDrive/ColabNotebooks/DatasetPattern/endosome/endosome_087.tif', '/content/drive/MyDrive/ColabNotebooks/DatasetPattern/endosome/endosome_089.tif', '/content/drive/MyDrive/ColabNotebooks/DatasetPattern/endosome/endosome_085.tif', '/content/drive/MyDrive/ColabNotebooks/DatasetPattern/endosome/endosome_086.tif', '/content/drive/MyDrive/ColabNotebooks/DatasetPattern/endosome/endosome_080.tif'], ['/content/drive/MyDrive/ColabNotebooks/DatasetPattern/er/ER_002.TIF', '/content/drive/MyDrive/ColabNotebooks/DatasetPattern/er/ER_001.TIF', '/content/drive/MyDrive/ColabNotebooks/DatasetPattern/er/ER_008.TIF', '/content/drive/MyDrive/ColabNotebooks/DatasetPattern/er/ER_003.TIF', '/content/drive/MyDrive/ColabNotebooks/DatasetPattern/er/ER_014.TIF', '/content/drive/MyDrive/ColabNotebooks/DatasetPattern/er/ER_063.TIF', '/content/drive/MyDrive/ColabNotebooks/DatasetPattern/er/ER_004.TIF', '/content/drive/MyDrive/ColabNotebooks/DatasetPattern/er/ER_009.TIF', '/content/drive/MyDrive/ColabNotebooks/DatasetPattern/er/ER_012.TIF', '/content/drive/MyDrive/ColabNotebooks/DatasetPattern/er/ER_011.TIF', '/content/drive/MyDrive/ColabNotebooks/DatasetPattern/er/ER_062.TIF', '/content/drive/MyDrive/ColabNotebooks/DatasetPattern/er/ER_007.TIF', '/content/drive/MyDrive/ColabNotebooks/DatasetPattern/er/ER_010.TIF', '/content/drive/MyDrive/ColabNotebooks/DatasetPattern/er/ER_061.TIF', '/content/drive/MyDrive/ColabNotebooks/DatasetPattern/er/ER_005.TIF', '/content/drive/MyDrive/ColabNotebooks/DatasetPattern/er/ER_013.TIF', '/content/drive/MyDrive/ColabNotebooks/DatasetPattern/er/ER_015.TIF', '/content/drive/MyDrive/ColabNotebooks/DatasetPattern/er/ER_006.TIF', '/content/drive/MyDrive/ColabNotebooks/DatasetPattern/er/ER_060.TIF', '/content/drive/MyDrive/ColabNotebooks/DatasetPattern/er/ER_065.TIF', '/content/drive/MyDrive/ColabNotebooks/DatasetPattern/er/ER_076.TIF', '/content/drive/MyDrive/ColabNotebooks/DatasetPattern/er/ER_068.TIF', '/content/drive/MyDrive/ColabNotebooks/DatasetPattern/er/ER_066.TIF', '/content/drive/MyDrive/ColabNotebooks/DatasetPattern/er/ER_078.TIF', '/content/drive/MyDrive/ColabNotebooks/DatasetPattern/er/ER_074.TIF', '/content/drive/MyDrive/ColabNotebooks/DatasetPattern/er/ER_070.TIF', '/content/drive/MyDrive/ColabNotebooks/DatasetPattern/er/ER_064.TIF', '/content/drive/MyDrive/ColabNotebooks/DatasetPattern/er/ER_072.TIF', '/content/drive/MyDrive/ColabNotebooks/DatasetPattern/er/ER_069.TIF', '/content/drive/MyDrive/ColabNotebooks/DatasetPattern/er/ER_079.TIF', '/content/drive/MyDrive/ColabNotebooks/DatasetPattern/er/ER_067.TIF', '/content/drive/MyDrive/ColabNotebooks/DatasetPattern/er/ER_075.TIF', '/content/drive/MyDrive/ColabNotebooks/DatasetPattern/er/ER_080.TIF', '/content/drive/MyDrive/ColabNotebooks/DatasetPattern/er/ER_077.TIF', '/content/drive/MyDrive/ColabNotebooks/DatasetPattern/er/ER_073.TIF', '/content/drive/MyDrive/ColabNotebooks/DatasetPattern/er/ER_071.TIF', '/content/drive/MyDrive/ColabNotebooks/DatasetPattern/er/ER_081.TIF', '/content/drive/MyDrive/ColabNotebooks/DatasetPattern/er/ER_082.TIF', '/content/drive/MyDrive/ColabNotebooks/DatasetPattern/er/ER_023.TIF', '/content/drive/MyDrive/ColabNotebooks/DatasetPattern/er/ER_020.TIF', '/content/drive/MyDrive/ColabNotebooks/DatasetPattern/er/ER_022.TIF', '/content/drive/MyDrive/ColabNotebooks/DatasetPattern/er/ER_024.TIF', '/content/drive/MyDrive/ColabNotebooks/DatasetPattern/er/ER_025.TIF', '/content/drive/MyDrive/ColabNotebooks/DatasetPattern/er/ER_018.TIF', '/content/drive/MyDrive/ColabNotebooks/DatasetPattern/er/ER_021.TIF', '/content/drive/MyDrive/ColabNotebooks/DatasetPattern/er/ER_083.TIF', '/content/drive/MyDrive/ColabNotebooks/DatasetPattern/er/ER_019.TIF', '/content/drive/MyDrive/ColabNotebooks/DatasetPattern/er/ER_016.TIF', '/content/drive/MyDrive/ColabNotebooks/DatasetPattern/er/ER_026.TIF', '/content/drive/MyDrive/ColabNotebooks/DatasetPattern/er/ER_086.TIF', '/content/drive/MyDrive/ColabNotebooks/DatasetPattern/er/ER_084.TIF', '/content/drive/MyDrive/ColabNotebooks/DatasetPattern/er/ER_085.TIF', '/content/drive/MyDrive/ColabNotebooks/DatasetPattern/er/ER_027.TIF', '/content/drive/MyDrive/ColabNotebooks/DatasetPattern/er/ER_017.TIF', '/content/drive/MyDrive/ColabNotebooks/DatasetPattern/er/ER_032.TIF', '/content/drive/MyDrive/ColabNotebooks/DatasetPattern/er/ER_029.TIF', '/content/drive/MyDrive/ColabNotebooks/DatasetPattern/er/ER_028.TIF', '/content/drive/MyDrive/ColabNotebooks/DatasetPattern/er/ER_039.TIF', '/content/drive/MyDrive/ColabNotebooks/DatasetPattern/er/ER_041.TIF', '/content/drive/MyDrive/ColabNotebooks/DatasetPattern/er/ER_033.TIF', '/content/drive/MyDrive/ColabNotebooks/DatasetPattern/er/ER_031.TIF', '/content/drive/MyDrive/ColabNotebooks/DatasetPattern/er/ER_043.TIF', '/content/drive/MyDrive/ColabNotebooks/DatasetPattern/er/ER_040.TIF', '/content/drive/MyDrive/ColabNotebooks/DatasetPattern/er/ER_034.TIF', '/content/drive/MyDrive/ColabNotebooks/DatasetPattern/er/ER_044.TIF', '/content/drive/MyDrive/ColabNotebooks/DatasetPattern/er/ER_042.TIF', '/content/drive/MyDrive/ColabNotebooks/DatasetPattern/er/ER_037.TIF', '/content/drive/MyDrive/ColabNotebooks/DatasetPattern/er/ER_045.TIF', '/content/drive/MyDrive/ColabNotebooks/DatasetPattern/er/ER_038.TIF', '/content/drive/MyDrive/ColabNotebooks/DatasetPattern/er/ER_035.TIF', '/content/drive/MyDrive/ColabNotebooks/DatasetPattern/er/ER_036.TIF', '/content/drive/MyDrive/ColabNotebooks/DatasetPattern/er/ER_030.TIF', '/content/drive/MyDrive/ColabNotebooks/DatasetPattern/er/ER_054.TIF', '/content/drive/MyDrive/ColabNotebooks/DatasetPattern/er/ER_047.TIF', '/content/drive/MyDrive/ColabNotebooks/DatasetPattern/er/ER_058.TIF', '/content/drive/MyDrive/ColabNotebooks/DatasetPattern/er/ER_055.TIF', '/content/drive/MyDrive/ColabNotebooks/DatasetPattern/er/ER_049.TIF', '/content/drive/MyDrive/ColabNotebooks/DatasetPattern/er/ER_050.TIF', '/content/drive/MyDrive/ColabNotebooks/DatasetPattern/er/ER_057.TIF', '/content/drive/MyDrive/ColabNotebooks/DatasetPattern/er/ER_046.TIF', '/content/drive/MyDrive/ColabNotebooks/DatasetPattern/er/ER_056.TIF', '/content/drive/MyDrive/ColabNotebooks/DatasetPattern/er/ER_053.TIF', '/content/drive/MyDrive/ColabNotebooks/DatasetPattern/er/ER_059.TIF', '/content/drive/MyDrive/ColabNotebooks/DatasetPattern/er/ER_051.TIF', '/content/drive/MyDrive/ColabNotebooks/DatasetPattern/er/ER_048.TIF', '/content/drive/MyDrive/ColabNotebooks/DatasetPattern/er/ER_052.TIF'], ['/content/drive/MyDrive/ColabNotebooks/DatasetPattern/golgia/golgia_001.tif', '/content/drive/MyDrive/ColabNotebooks/DatasetPattern/golgia/golgia_007.tif', '/content/drive/MyDrive/ColabNotebooks/DatasetPattern/golgia/golgia_005.tif', '/content/drive/MyDrive/ColabNotebooks/DatasetPattern/golgia/golgia_002.tif', '/content/drive/MyDrive/ColabNotebooks/DatasetPattern/golgia/golgia_012.tif', '/content/drive/MyDrive/ColabNotebooks/DatasetPattern/golgia/golgia_006.tif', '/content/drive/MyDrive/ColabNotebooks/DatasetPattern/golgia/golgia_013.tif', '/content/drive/MyDrive/ColabNotebooks/DatasetPattern/golgia/golgia_004.tif', '/content/drive/MyDrive/ColabNotebooks/DatasetPattern/golgia/golgia_008.tif', '/content/drive/MyDrive/ColabNotebooks/DatasetPattern/golgia/golgia_010.tif', '/content/drive/MyDrive/ColabNotebooks/DatasetPattern/golgia/golgia_009.tif', '/content/drive/MyDrive/ColabNotebooks/DatasetPattern/golgia/golgia_003.tif', '/content/drive/MyDrive/ColabNotebooks/DatasetPattern/golgia/golgia_011.tif', '/content/drive/MyDrive/ColabNotebooks/DatasetPattern/golgia/golgia_074.tif', '/content/drive/MyDrive/ColabNotebooks/DatasetPattern/golgia/golgia_075.tif', '/content/drive/MyDrive/ColabNotebooks/DatasetPattern/golgia/golgia_071.tif', '/content/drive/MyDrive/ColabNotebooks/DatasetPattern/golgia/golgia_069.tif', '/content/drive/MyDrive/ColabNotebooks/DatasetPattern/golgia/golgia_064.tif', '/content/drive/MyDrive/ColabNotebooks/DatasetPattern/golgia/golgia_062.tif', '/content/drive/MyDrive/ColabNotebooks/DatasetPattern/golgia/golgia_070.tif', '/content/drive/MyDrive/ColabNotebooks/DatasetPattern/golgia/golgia_072.tif', '/content/drive/MyDrive/ColabNotebooks/DatasetPattern/golgia/golgia_061.tif', '/content/drive/MyDrive/ColabNotebooks/DatasetPattern/golgia/golgia_065.tif', '/content/drive/MyDrive/ColabNotebooks/DatasetPattern/golgia/golgia_076.tif', '/content/drive/MyDrive/ColabNotebooks/DatasetPattern/golgia/golgia_067.tif', '/content/drive/MyDrive/ColabNotebooks/DatasetPattern/golgia/golgia_073.tif', '/content/drive/MyDrive/ColabNotebooks/DatasetPattern/golgia/golgia_077.tif', '/content/drive/MyDrive/ColabNotebooks/DatasetPattern/golgia/golgia_066.tif', '/content/drive/MyDrive/ColabNotebooks/DatasetPattern/golgia/golgia_063.tif', '/content/drive/MyDrive/ColabNotebooks/DatasetPattern/golgia/golgia_068.tif', '/content/drive/MyDrive/ColabNotebooks/DatasetPattern/golgia/golgia_082.tif', '/content/drive/MyDrive/ColabNotebooks/DatasetPattern/golgia/golgia_083.tif', '/content/drive/MyDrive/ColabNotebooks/DatasetPattern/golgia/golgia_086.tif', '/content/drive/MyDrive/ColabNotebooks/DatasetPattern/golgia/golgia_019.tif', '/content/drive/MyDrive/ColabNotebooks/DatasetPattern/golgia/golgia_015.tif', '/content/drive/MyDrive/ColabNotebooks/DatasetPattern/golgia/golgia_079.tif', '/content/drive/MyDrive/ColabNotebooks/DatasetPattern/golgia/golgia_085.tif', '/content/drive/MyDrive/ColabNotebooks/DatasetPattern/golgia/golgia_080.tif', '/content/drive/MyDrive/ColabNotebooks/DatasetPattern/golgia/golgia_081.tif', '/content/drive/MyDrive/ColabNotebooks/DatasetPattern/golgia/golgia_078.tif', '/content/drive/MyDrive/ColabNotebooks/DatasetPattern/golgia/golgia_016.tif', '/content/drive/MyDrive/ColabNotebooks/DatasetPattern/golgia/golgia_084.tif', '/content/drive/MyDrive/ColabNotebooks/DatasetPattern/golgia/golgia_014.tif', '/content/drive/MyDrive/ColabNotebooks/DatasetPattern/golgia/golgia_018.tif', '/content/drive/MyDrive/ColabNotebooks/DatasetPattern/golgia/golgia_087.tif', '/content/drive/MyDrive/ColabNotebooks/DatasetPattern/golgia/golgia_017.tif', '/content/drive/MyDrive/ColabNotebooks/DatasetPattern/golgia/golgia_020.tif', '/content/drive/MyDrive/ColabNotebooks/DatasetPattern/golgia/golgia_032.tif', '/content/drive/MyDrive/ColabNotebooks/DatasetPattern/golgia/golgia_026.tif', '/content/drive/MyDrive/ColabNotebooks/DatasetPattern/golgia/golgia_025.tif', '/content/drive/MyDrive/ColabNotebooks/DatasetPattern/golgia/golgia_034.tif', '/content/drive/MyDrive/ColabNotebooks/DatasetPattern/golgia/golgia_024.tif', '/content/drive/MyDrive/ColabNotebooks/DatasetPattern/golgia/golgia_036.tif', '/content/drive/MyDrive/ColabNotebooks/DatasetPattern/golgia/golgia_030.tif', '/content/drive/MyDrive/ColabNotebooks/DatasetPattern/golgia/golgia_031.tif', '/content/drive/MyDrive/ColabNotebooks/DatasetPattern/golgia/golgia_028.tif', '/content/drive/MyDrive/ColabNotebooks/DatasetPattern/golgia/golgia_022.tif', '/content/drive/MyDrive/ColabNotebooks/DatasetPattern/golgia/golgia_035.tif', '/content/drive/MyDrive/ColabNotebooks/DatasetPattern/golgia/golgia_027.tif', '/content/drive/MyDrive/ColabNotebooks/DatasetPattern/golgia/golgia_023.tif', '/content/drive/MyDrive/ColabNotebooks/DatasetPattern/golgia/golgia_033.tif', '/content/drive/MyDrive/ColabNotebooks/DatasetPattern/golgia/golgia_029.tif', '/content/drive/MyDrive/ColabNotebooks/DatasetPattern/golgia/golgia_021.tif', '/content/drive/MyDrive/ColabNotebooks/DatasetPattern/golgia/golgia_046.tif', '/content/drive/MyDrive/ColabNotebooks/DatasetPattern/golgia/golgia_052.tif', '/content/drive/MyDrive/ColabNotebooks/DatasetPattern/golgia/golgia_037.tif', '/content/drive/MyDrive/ColabNotebooks/DatasetPattern/golgia/golgia_051.tif', '/content/drive/MyDrive/ColabNotebooks/DatasetPattern/golgia/golgia_048.tif', '/content/drive/MyDrive/ColabNotebooks/DatasetPattern/golgia/golgia_041.tif', '/content/drive/MyDrive/ColabNotebooks/DatasetPattern/golgia/golgia_050.tif', '/content/drive/MyDrive/ColabNotebooks/DatasetPattern/golgia/golgia_043.tif', '/content/drive/MyDrive/ColabNotebooks/DatasetPattern/golgia/golgia_053.tif', '/content/drive/MyDrive/ColabNotebooks/DatasetPattern/golgia/golgia_054.tif', '/content/drive/MyDrive/ColabNotebooks/DatasetPattern/golgia/golgia_042.tif', '/content/drive/MyDrive/ColabNotebooks/DatasetPattern/golgia/golgia_044.tif', '/content/drive/MyDrive/ColabNotebooks/DatasetPattern/golgia/golgia_040.tif', '/content/drive/MyDrive/ColabNotebooks/DatasetPattern/golgia/golgia_045.tif', '/content/drive/MyDrive/ColabNotebooks/DatasetPattern/golgia/golgia_039.tif', '/content/drive/MyDrive/ColabNotebooks/DatasetPattern/golgia/golgia_047.tif', '/content/drive/MyDrive/ColabNotebooks/DatasetPattern/golgia/golgia_038.tif', '/content/drive/MyDrive/ColabNotebooks/DatasetPattern/golgia/golgia_049.tif', '/content/drive/MyDrive/ColabNotebooks/DatasetPattern/golgia/golgia_057.tif', '/content/drive/MyDrive/ColabNotebooks/DatasetPattern/golgia/golgia_055.tif', '/content/drive/MyDrive/ColabNotebooks/DatasetPattern/golgia/golgia_060.tif', '/content/drive/MyDrive/ColabNotebooks/DatasetPattern/golgia/golgia_056.tif', '/content/drive/MyDrive/ColabNotebooks/DatasetPattern/golgia/golgia_058.tif', '/content/drive/MyDrive/ColabNotebooks/DatasetPattern/golgia/golgia_059.tif'], ['/content/drive/MyDrive/ColabNotebooks/DatasetPattern/golgpp/golgpp_011.tif', '/content/drive/MyDrive/ColabNotebooks/DatasetPattern/golgpp/golgpp_002.tif', '/content/drive/MyDrive/ColabNotebooks/DatasetPattern/golgpp/golgpp_005.tif', '/content/drive/MyDrive/ColabNotebooks/DatasetPattern/golgpp/golgpp_001.tif', '/content/drive/MyDrive/ColabNotebooks/DatasetPattern/golgpp/golgpp_004.tif', '/content/drive/MyDrive/ColabNotebooks/DatasetPattern/golgpp/golgpp_006.tif', '/content/drive/MyDrive/ColabNotebooks/DatasetPattern/golgpp/golgpp_007.tif', '/content/drive/MyDrive/ColabNotebooks/DatasetPattern/golgpp/golgpp_009.tif', '/content/drive/MyDrive/ColabNotebooks/DatasetPattern/golgpp/golgpp_010.tif', '/content/drive/MyDrive/ColabNotebooks/DatasetPattern/golgpp/golgpp_003.tif', '/content/drive/MyDrive/ColabNotebooks/DatasetPattern/golgpp/golgpp_008.tif', '/content/drive/MyDrive/ColabNotebooks/DatasetPattern/golgpp/golgpp_013.tif', '/content/drive/MyDrive/ColabNotebooks/DatasetPattern/golgpp/golgpp_071.tif', '/content/drive/MyDrive/ColabNotebooks/DatasetPattern/golgpp/golgpp_064.tif', '/content/drive/MyDrive/ColabNotebooks/DatasetPattern/golgpp/golgpp_073.tif', '/content/drive/MyDrive/ColabNotebooks/DatasetPattern/golgpp/golgpp_068.tif', '/content/drive/MyDrive/ColabNotebooks/DatasetPattern/golgpp/golgpp_070.tif', '/content/drive/MyDrive/ColabNotebooks/DatasetPattern/golgpp/golgpp_066.tif', '/content/drive/MyDrive/ColabNotebooks/DatasetPattern/golgpp/golgpp_069.tif', '/content/drive/MyDrive/ColabNotebooks/DatasetPattern/golgpp/golgpp_063.tif', '/content/drive/MyDrive/ColabNotebooks/DatasetPattern/golgpp/golgpp_072.tif', '/content/drive/MyDrive/ColabNotebooks/DatasetPattern/golgpp/golgpp_061.tif', '/content/drive/MyDrive/ColabNotebooks/DatasetPattern/golgpp/golgpp_075.tif', '/content/drive/MyDrive/ColabNotebooks/DatasetPattern/golgpp/golgpp_062.tif', '/content/drive/MyDrive/ColabNotebooks/DatasetPattern/golgpp/golgpp_012.tif', '/content/drive/MyDrive/ColabNotebooks/DatasetPattern/golgpp/golgpp_065.tif', '/content/drive/MyDrive/ColabNotebooks/DatasetPattern/golgpp/golgpp_074.tif', '/content/drive/MyDrive/ColabNotebooks/DatasetPattern/golgpp/golgpp_067.tif', '/content/drive/MyDrive/ColabNotebooks/DatasetPattern/golgpp/golgpp_083.tif', '/content/drive/MyDrive/ColabNotebooks/DatasetPattern/golgpp/golgpp_085.tif', '/content/drive/MyDrive/ColabNotebooks/DatasetPattern/golgpp/golgpp_081.tif', '/content/drive/MyDrive/ColabNotebooks/DatasetPattern/golgpp/golgpp_014.tif', '/content/drive/MyDrive/ColabNotebooks/DatasetPattern/golgpp/golgpp_079.tif', '/content/drive/MyDrive/ColabNotebooks/DatasetPattern/golgpp/golgpp_018.tif', '/content/drive/MyDrive/ColabNotebooks/DatasetPattern/golgpp/golgpp_077.tif', '/content/drive/MyDrive/ColabNotebooks/DatasetPattern/golgpp/golgpp_016.tif', '/content/drive/MyDrive/ColabNotebooks/DatasetPattern/golgpp/golgpp_084.tif', '/content/drive/MyDrive/ColabNotebooks/DatasetPattern/golgpp/golgpp_082.tif', '/content/drive/MyDrive/ColabNotebooks/DatasetPattern/golgpp/golgpp_078.tif', '/content/drive/MyDrive/ColabNotebooks/DatasetPattern/golgpp/golgpp_015.tif', '/content/drive/MyDrive/ColabNotebooks/DatasetPattern/golgpp/golgpp_019.tif', '/content/drive/MyDrive/ColabNotebooks/DatasetPattern/golgpp/golgpp_076.tif', '/content/drive/MyDrive/ColabNotebooks/DatasetPattern/golgpp/golgpp_080.tif', '/content/drive/MyDrive/ColabNotebooks/DatasetPattern/golgpp/golgpp_017.tif', '/content/drive/MyDrive/ColabNotebooks/DatasetPattern/golgpp/golgpp_031.tif', '/content/drive/MyDrive/ColabNotebooks/DatasetPattern/golgpp/golgpp_030.tif', '/content/drive/MyDrive/ColabNotebooks/DatasetPattern/golgpp/golgpp_029.tif', '/content/drive/MyDrive/ColabNotebooks/DatasetPattern/golgpp/golgpp_027.tif', '/content/drive/MyDrive/ColabNotebooks/DatasetPattern/golgpp/golgpp_026.tif', '/content/drive/MyDrive/ColabNotebooks/DatasetPattern/golgpp/golgpp_035.tif', '/content/drive/MyDrive/ColabNotebooks/DatasetPattern/golgpp/golgpp_028.tif', '/content/drive/MyDrive/ColabNotebooks/DatasetPattern/golgpp/golgpp_024.tif', '/content/drive/MyDrive/ColabNotebooks/DatasetPattern/golgpp/golgpp_021.tif', '/content/drive/MyDrive/ColabNotebooks/DatasetPattern/golgpp/golgpp_033.tif', '/content/drive/MyDrive/ColabNotebooks/DatasetPattern/golgpp/golgpp_023.tif', '/content/drive/MyDrive/ColabNotebooks/DatasetPattern/golgpp/golgpp_036.tif', '/content/drive/MyDrive/ColabNotebooks/DatasetPattern/golgpp/golgpp_032.tif', '/content/drive/MyDrive/ColabNotebooks/DatasetPattern/golgpp/golgpp_020.tif', '/content/drive/MyDrive/ColabNotebooks/DatasetPattern/golgpp/golgpp_034.tif', '/content/drive/MyDrive/ColabNotebooks/DatasetPattern/golgpp/golgpp_025.tif', '/content/drive/MyDrive/ColabNotebooks/DatasetPattern/golgpp/golgpp_022.tif', '/content/drive/MyDrive/ColabNotebooks/DatasetPattern/golgpp/golgpp_042.tif', '/content/drive/MyDrive/ColabNotebooks/DatasetPattern/golgpp/golgpp_048.tif', '/content/drive/MyDrive/ColabNotebooks/DatasetPattern/golgpp/golgpp_049.tif', '/content/drive/MyDrive/ColabNotebooks/DatasetPattern/golgpp/golgpp_037.tif', '/content/drive/MyDrive/ColabNotebooks/DatasetPattern/golgpp/golgpp_043.tif', '/content/drive/MyDrive/ColabNotebooks/DatasetPattern/golgpp/golgpp_040.tif', '/content/drive/MyDrive/ColabNotebooks/DatasetPattern/golgpp/golgpp_045.tif', '/content/drive/MyDrive/ColabNotebooks/DatasetPattern/golgpp/golgpp_050.tif', '/content/drive/MyDrive/ColabNotebooks/DatasetPattern/golgpp/golgpp_052.tif', '/content/drive/MyDrive/ColabNotebooks/DatasetPattern/golgpp/golgpp_041.tif', '/content/drive/MyDrive/ColabNotebooks/DatasetPattern/golgpp/golgpp_044.tif', '/content/drive/MyDrive/ColabNotebooks/DatasetPattern/golgpp/golgpp_053.tif', '/content/drive/MyDrive/ColabNotebooks/DatasetPattern/golgpp/golgpp_039.tif', '/content/drive/MyDrive/ColabNotebooks/DatasetPattern/golgpp/golgpp_054.tif', '/content/drive/MyDrive/ColabNotebooks/DatasetPattern/golgpp/golgpp_051.tif', '/content/drive/MyDrive/ColabNotebooks/DatasetPattern/golgpp/golgpp_046.tif', '/content/drive/MyDrive/ColabNotebooks/DatasetPattern/golgpp/golgpp_047.tif', '/content/drive/MyDrive/ColabNotebooks/DatasetPattern/golgpp/golgpp_038.tif', '/content/drive/MyDrive/ColabNotebooks/DatasetPattern/golgpp/golgpp_059.tif', '/content/drive/MyDrive/ColabNotebooks/DatasetPattern/golgpp/golgpp_055.tif', '/content/drive/MyDrive/ColabNotebooks/DatasetPattern/golgpp/golgpp_060.tif', '/content/drive/MyDrive/ColabNotebooks/DatasetPattern/golgpp/golgpp_057.tif', '/content/drive/MyDrive/ColabNotebooks/DatasetPattern/golgpp/golgpp_056.tif', '/content/drive/MyDrive/ColabNotebooks/DatasetPattern/golgpp/golgpp_058.tif'], ['/content/drive/MyDrive/ColabNotebooks/DatasetPattern/lysosome/lysosome_003.tif', '/content/drive/MyDrive/ColabNotebooks/DatasetPattern/lysosome/lysosome_002.tif', '/content/drive/MyDrive/ColabNotebooks/DatasetPattern/lysosome/lysosome_001.tif', '/content/drive/MyDrive/ColabNotebooks/DatasetPattern/lysosome/lysosome_005.tif', '/content/drive/MyDrive/ColabNotebooks/DatasetPattern/lysosome/lysosome_007.tif', '/content/drive/MyDrive/ColabNotebooks/DatasetPattern/lysosome/lysosome_006.tif', '/content/drive/MyDrive/ColabNotebooks/DatasetPattern/lysosome/lysosome_004.tif', '/content/drive/MyDrive/ColabNotebooks/DatasetPattern/lysosome/lysosome_009.tif', '/content/drive/MyDrive/ColabNotebooks/DatasetPattern/lysosome/lysosome_010.tif', '/content/drive/MyDrive/ColabNotebooks/DatasetPattern/lysosome/lysosome_008.tif', '/content/drive/MyDrive/ColabNotebooks/DatasetPattern/lysosome/lysosome_025.tif', '/content/drive/MyDrive/ColabNotebooks/DatasetPattern/lysosome/lysosome_026.tif', '/content/drive/MyDrive/ColabNotebooks/DatasetPattern/lysosome/lysosome_014.tif', '/content/drive/MyDrive/ColabNotebooks/DatasetPattern/lysosome/lysosome_015.tif', '/content/drive/MyDrive/ColabNotebooks/DatasetPattern/lysosome/lysosome_023.tif', '/content/drive/MyDrive/ColabNotebooks/DatasetPattern/lysosome/lysosome_011.tif', '/content/drive/MyDrive/ColabNotebooks/DatasetPattern/lysosome/lysosome_021.tif', '/content/drive/MyDrive/ColabNotebooks/DatasetPattern/lysosome/lysosome_019.tif', '/content/drive/MyDrive/ColabNotebooks/DatasetPattern/lysosome/lysosome_013.tif', '/content/drive/MyDrive/ColabNotebooks/DatasetPattern/lysosome/lysosome_028.tif', '/content/drive/MyDrive/ColabNotebooks/DatasetPattern/lysosome/lysosome_024.tif', '/content/drive/MyDrive/ColabNotebooks/DatasetPattern/lysosome/lysosome_016.tif', '/content/drive/MyDrive/ColabNotebooks/DatasetPattern/lysosome/lysosome_018.tif', '/content/drive/MyDrive/ColabNotebooks/DatasetPattern/lysosome/lysosome_020.tif', '/content/drive/MyDrive/ColabNotebooks/DatasetPattern/lysosome/lysosome_017.tif', '/content/drive/MyDrive/ColabNotebooks/DatasetPattern/lysosome/lysosome_022.tif', '/content/drive/MyDrive/ColabNotebooks/DatasetPattern/lysosome/lysosome_012.tif', '/content/drive/MyDrive/ColabNotebooks/DatasetPattern/lysosome/lysosome_027.tif', '/content/drive/MyDrive/ColabNotebooks/DatasetPattern/lysosome/lysosome_038.tif', '/content/drive/MyDrive/ColabNotebooks/DatasetPattern/lysosome/lysosome_037.tif', '/content/drive/MyDrive/ColabNotebooks/DatasetPattern/lysosome/lysosome_042.tif', '/content/drive/MyDrive/ColabNotebooks/DatasetPattern/lysosome/lysosome_044.tif', '/content/drive/MyDrive/ColabNotebooks/DatasetPattern/lysosome/lysosome_034.tif', '/content/drive/MyDrive/ColabNotebooks/DatasetPattern/lysosome/lysosome_029.tif', '/content/drive/MyDrive/ColabNotebooks/DatasetPattern/lysosome/lysosome_030.tif', '/content/drive/MyDrive/ColabNotebooks/DatasetPattern/lysosome/lysosome_039.tif', '/content/drive/MyDrive/ColabNotebooks/DatasetPattern/lysosome/lysosome_040.tif', '/content/drive/MyDrive/ColabNotebooks/DatasetPattern/lysosome/lysosome_036.tif', '/content/drive/MyDrive/ColabNotebooks/DatasetPattern/lysosome/lysosome_043.tif', '/content/drive/MyDrive/ColabNotebooks/DatasetPattern/lysosome/lysosome_031.tif', '/content/drive/MyDrive/ColabNotebooks/DatasetPattern/lysosome/lysosome_035.tif', '/content/drive/MyDrive/ColabNotebooks/DatasetPattern/lysosome/lysosome_033.tif', '/content/drive/MyDrive/ColabNotebooks/DatasetPattern/lysosome/lysosome_041.tif', '/content/drive/MyDrive/ColabNotebooks/DatasetPattern/lysosome/lysosome_032.tif', '/content/drive/MyDrive/ColabNotebooks/DatasetPattern/lysosome/lysosome_047.tif', '/content/drive/MyDrive/ColabNotebooks/DatasetPattern/lysosome/lysosome_054.tif', '/content/drive/MyDrive/ColabNotebooks/DatasetPattern/lysosome/lysosome_058.tif', '/content/drive/MyDrive/ColabNotebooks/DatasetPattern/lysosome/lysosome_052.tif', '/content/drive/MyDrive/ColabNotebooks/DatasetPattern/lysosome/lysosome_045.tif', '/content/drive/MyDrive/ColabNotebooks/DatasetPattern/lysosome/lysosome_049.tif', '/content/drive/MyDrive/ColabNotebooks/DatasetPattern/lysosome/lysosome_050.tif', '/content/drive/MyDrive/ColabNotebooks/DatasetPattern/lysosome/lysosome_061.tif', '/content/drive/MyDrive/ColabNotebooks/DatasetPattern/lysosome/lysosome_060.tif', '/content/drive/MyDrive/ColabNotebooks/DatasetPattern/lysosome/lysosome_057.tif', '/content/drive/MyDrive/ColabNotebooks/DatasetPattern/lysosome/lysosome_048.tif', '/content/drive/MyDrive/ColabNotebooks/DatasetPattern/lysosome/lysosome_059.tif', '/content/drive/MyDrive/ColabNotebooks/DatasetPattern/lysosome/lysosome_056.tif', '/content/drive/MyDrive/ColabNotebooks/DatasetPattern/lysosome/lysosome_053.tif', '/content/drive/MyDrive/ColabNotebooks/DatasetPattern/lysosome/lysosome_055.tif', '/content/drive/MyDrive/ColabNotebooks/DatasetPattern/lysosome/lysosome_046.tif', '/content/drive/MyDrive/ColabNotebooks/DatasetPattern/lysosome/lysosome_051.tif', '/content/drive/MyDrive/ColabNotebooks/DatasetPattern/lysosome/lysosome_070.tif', '/content/drive/MyDrive/ColabNotebooks/DatasetPattern/lysosome/lysosome_071.tif', '/content/drive/MyDrive/ColabNotebooks/DatasetPattern/lysosome/lysosome_069.tif', '/content/drive/MyDrive/ColabNotebooks/DatasetPattern/lysosome/lysosome_064.tif', '/content/drive/MyDrive/ColabNotebooks/DatasetPattern/lysosome/lysosome_066.tif', '/content/drive/MyDrive/ColabNotebooks/DatasetPattern/lysosome/lysosome_067.tif', '/content/drive/MyDrive/ColabNotebooks/DatasetPattern/lysosome/lysosome_076.tif', '/content/drive/MyDrive/ColabNotebooks/DatasetPattern/lysosome/lysosome_065.tif', '/content/drive/MyDrive/ColabNotebooks/DatasetPattern/lysosome/lysosome_074.tif', '/content/drive/MyDrive/ColabNotebooks/DatasetPattern/lysosome/lysosome_073.tif', '/content/drive/MyDrive/ColabNotebooks/DatasetPattern/lysosome/lysosome_075.tif', '/content/drive/MyDrive/ColabNotebooks/DatasetPattern/lysosome/lysosome_063.tif', '/content/drive/MyDrive/ColabNotebooks/DatasetPattern/lysosome/lysosome_062.tif', '/content/drive/MyDrive/ColabNotebooks/DatasetPattern/lysosome/lysosome_072.tif', '/content/drive/MyDrive/ColabNotebooks/DatasetPattern/lysosome/lysosome_078.tif', '/content/drive/MyDrive/ColabNotebooks/DatasetPattern/lysosome/lysosome_068.tif', '/content/drive/MyDrive/ColabNotebooks/DatasetPattern/lysosome/lysosome_077.tif', '/content/drive/MyDrive/ColabNotebooks/DatasetPattern/lysosome/lysosome_083.tif', '/content/drive/MyDrive/ColabNotebooks/DatasetPattern/lysosome/lysosome_081.tif', '/content/drive/MyDrive/ColabNotebooks/DatasetPattern/lysosome/lysosome_079.tif', '/content/drive/MyDrive/ColabNotebooks/DatasetPattern/lysosome/lysosome_082.tif', '/content/drive/MyDrive/ColabNotebooks/DatasetPattern/lysosome/lysosome_084.tif', '/content/drive/MyDrive/ColabNotebooks/DatasetPattern/lysosome/lysosome_080.tif'], ['/content/drive/MyDrive/ColabNotebooks/DatasetPattern/microtubules/microtubules_005.tif', '/content/drive/MyDrive/ColabNotebooks/DatasetPattern/microtubules/microtubules_011.tif', '/content/drive/MyDrive/ColabNotebooks/DatasetPattern/microtubules/microtubules_006.tif', '/content/drive/MyDrive/ColabNotebooks/DatasetPattern/microtubules/microtubules_003.tif', '/content/drive/MyDrive/ColabNotebooks/DatasetPattern/microtubules/microtubules_004.tif', '/content/drive/MyDrive/ColabNotebooks/DatasetPattern/microtubules/microtubules_001.tif', '/content/drive/MyDrive/ColabNotebooks/DatasetPattern/microtubules/microtubules_008.tif', '/content/drive/MyDrive/ColabNotebooks/DatasetPattern/microtubules/microtubules_002.tif', '/content/drive/MyDrive/ColabNotebooks/DatasetPattern/microtubules/microtubules_009.tif', '/content/drive/MyDrive/ColabNotebooks/DatasetPattern/microtubules/microtubules_010.tif', '/content/drive/MyDrive/ColabNotebooks/DatasetPattern/microtubules/microtubules_007.tif', '/content/drive/MyDrive/ColabNotebooks/DatasetPattern/microtubules/microtubules_014.tif', '/content/drive/MyDrive/ColabNotebooks/DatasetPattern/microtubules/microtubules_016.tif', '/content/drive/MyDrive/ColabNotebooks/DatasetPattern/microtubules/microtubules_065.tif', '/content/drive/MyDrive/ColabNotebooks/DatasetPattern/microtubules/microtubules_020.tif', '/content/drive/MyDrive/ColabNotebooks/DatasetPattern/microtubules/microtubules_012.tif', '/content/drive/MyDrive/ColabNotebooks/DatasetPattern/microtubules/microtubules_017.tif', '/content/drive/MyDrive/ColabNotebooks/DatasetPattern/microtubules/microtubules_022.tif', '/content/drive/MyDrive/ColabNotebooks/DatasetPattern/microtubules/microtubules_066.tif', '/content/drive/MyDrive/ColabNotebooks/DatasetPattern/microtubules/microtubules_015.tif', '/content/drive/MyDrive/ColabNotebooks/DatasetPattern/microtubules/microtubules_019.tif', '/content/drive/MyDrive/ColabNotebooks/DatasetPattern/microtubules/microtubules_018.tif', '/content/drive/MyDrive/ColabNotebooks/DatasetPattern/microtubules/microtubules_063.tif', '/content/drive/MyDrive/ColabNotebooks/DatasetPattern/microtubules/microtubules_064.tif', '/content/drive/MyDrive/ColabNotebooks/DatasetPattern/microtubules/microtubules_013.tif', '/content/drive/MyDrive/ColabNotebooks/DatasetPattern/microtubules/microtubules_062.tif', '/content/drive/MyDrive/ColabNotebooks/DatasetPattern/microtubules/microtubules_023.tif', '/content/drive/MyDrive/ColabNotebooks/DatasetPattern/microtubules/microtubules_021.tif', '/content/drive/MyDrive/ColabNotebooks/DatasetPattern/microtubules/microtubules_080.tif', '/content/drive/MyDrive/ColabNotebooks/DatasetPattern/microtubules/microtubules_072.tif', '/content/drive/MyDrive/ColabNotebooks/DatasetPattern/microtubules/microtubules_074.tif', '/content/drive/MyDrive/ColabNotebooks/DatasetPattern/microtubules/microtubules_077.tif', '/content/drive/MyDrive/ColabNotebooks/DatasetPattern/microtubules/microtubules_082.tif', '/content/drive/MyDrive/ColabNotebooks/DatasetPattern/microtubules/microtubules_081.tif', '/content/drive/MyDrive/ColabNotebooks/DatasetPattern/microtubules/microtubules_075.tif', '/content/drive/MyDrive/ColabNotebooks/DatasetPattern/microtubules/microtubules_079.tif', '/content/drive/MyDrive/ColabNotebooks/DatasetPattern/microtubules/microtubules_068.tif', '/content/drive/MyDrive/ColabNotebooks/DatasetPattern/microtubules/microtubules_078.tif', '/content/drive/MyDrive/ColabNotebooks/DatasetPattern/microtubules/microtubules_070.tif', '/content/drive/MyDrive/ColabNotebooks/DatasetPattern/microtubules/microtubules_069.tif', '/content/drive/MyDrive/ColabNotebooks/DatasetPattern/microtubules/microtubules_067.tif', '/content/drive/MyDrive/ColabNotebooks/DatasetPattern/microtubules/microtubules_076.tif', '/content/drive/MyDrive/ColabNotebooks/DatasetPattern/microtubules/microtubules_073.tif', '/content/drive/MyDrive/ColabNotebooks/DatasetPattern/microtubules/microtubules_071.tif', '/content/drive/MyDrive/ColabNotebooks/DatasetPattern/microtubules/microtubules_091.tif', '/content/drive/MyDrive/ColabNotebooks/DatasetPattern/microtubules/microtubules_085.tif', '/content/drive/MyDrive/ColabNotebooks/DatasetPattern/microtubules/microtubules_087.tif', '/content/drive/MyDrive/ColabNotebooks/DatasetPattern/microtubules/microtubules_031.tif', '/content/drive/MyDrive/ColabNotebooks/DatasetPattern/microtubules/microtubules_084.tif', '/content/drive/MyDrive/ColabNotebooks/DatasetPattern/microtubules/microtubules_027.tif', '/content/drive/MyDrive/ColabNotebooks/DatasetPattern/microtubules/microtubules_030.tif', '/content/drive/MyDrive/ColabNotebooks/DatasetPattern/microtubules/microtubules_028.tif', '/content/drive/MyDrive/ColabNotebooks/DatasetPattern/microtubules/microtubules_088.tif', '/content/drive/MyDrive/ColabNotebooks/DatasetPattern/microtubules/microtubules_090.tif', '/content/drive/MyDrive/ColabNotebooks/DatasetPattern/microtubules/microtubules_026.tif', '/content/drive/MyDrive/ColabNotebooks/DatasetPattern/microtubules/microtubules_083.tif', '/content/drive/MyDrive/ColabNotebooks/DatasetPattern/microtubules/microtubules_029.tif', '/content/drive/MyDrive/ColabNotebooks/DatasetPattern/microtubules/microtubules_089.tif', '/content/drive/MyDrive/ColabNotebooks/DatasetPattern/microtubules/microtubules_024.tif', '/content/drive/MyDrive/ColabNotebooks/DatasetPattern/microtubules/microtubules_086.tif', '/content/drive/MyDrive/ColabNotebooks/DatasetPattern/microtubules/microtubules_025.tif', '/content/drive/MyDrive/ColabNotebooks/DatasetPattern/microtubules/microtubules_046.tif', '/content/drive/MyDrive/ColabNotebooks/DatasetPattern/microtubules/microtubules_032.tif', '/content/drive/MyDrive/ColabNotebooks/DatasetPattern/microtubules/microtubules_036.tif', '/content/drive/MyDrive/ColabNotebooks/DatasetPattern/microtubules/microtubules_038.tif', '/content/drive/MyDrive/ColabNotebooks/DatasetPattern/microtubules/microtubules_047.tif', '/content/drive/MyDrive/ColabNotebooks/DatasetPattern/microtubules/microtubules_035.tif', '/content/drive/MyDrive/ColabNotebooks/DatasetPattern/microtubules/microtubules_042.tif', '/content/drive/MyDrive/ColabNotebooks/DatasetPattern/microtubules/microtubules_040.tif', '/content/drive/MyDrive/ColabNotebooks/DatasetPattern/microtubules/microtubules_049.tif', '/content/drive/MyDrive/ColabNotebooks/DatasetPattern/microtubules/microtubules_034.tif', '/content/drive/MyDrive/ColabNotebooks/DatasetPattern/microtubules/microtubules_048.tif', '/content/drive/MyDrive/ColabNotebooks/DatasetPattern/microtubules/microtubules_041.tif', '/content/drive/MyDrive/ColabNotebooks/DatasetPattern/microtubules/microtubules_037.tif', '/content/drive/MyDrive/ColabNotebooks/DatasetPattern/microtubules/microtubules_044.tif', '/content/drive/MyDrive/ColabNotebooks/DatasetPattern/microtubules/microtubules_043.tif', '/content/drive/MyDrive/ColabNotebooks/DatasetPattern/microtubules/microtubules_039.tif', '/content/drive/MyDrive/ColabNotebooks/DatasetPattern/microtubules/microtubules_045.tif', '/content/drive/MyDrive/ColabNotebooks/DatasetPattern/microtubules/microtubules_033.tif', '/content/drive/MyDrive/ColabNotebooks/DatasetPattern/microtubules/microtubules_058.tif', '/content/drive/MyDrive/ColabNotebooks/DatasetPattern/microtubules/microtubules_061.tif', '/content/drive/MyDrive/ColabNotebooks/DatasetPattern/microtubules/microtubules_052.tif', '/content/drive/MyDrive/ColabNotebooks/DatasetPattern/microtubules/microtubules_059.tif', '/content/drive/MyDrive/ColabNotebooks/DatasetPattern/microtubules/microtubules_057.tif', '/content/drive/MyDrive/ColabNotebooks/DatasetPattern/microtubules/microtubules_051.tif', '/content/drive/MyDrive/ColabNotebooks/DatasetPattern/microtubules/microtubules_060.tif', '/content/drive/MyDrive/ColabNotebooks/DatasetPattern/microtubules/microtubules_055.tif', '/content/drive/MyDrive/ColabNotebooks/DatasetPattern/microtubules/microtubules_054.tif', '/content/drive/MyDrive/ColabNotebooks/DatasetPattern/microtubules/microtubules_056.tif', '/content/drive/MyDrive/ColabNotebooks/DatasetPattern/microtubules/microtubules_050.tif', '/content/drive/MyDrive/ColabNotebooks/DatasetPattern/microtubules/microtubules_053.tif'], ['/content/drive/MyDrive/ColabNotebooks/DatasetPattern/mitochondria/mitochondria_005.tif', '/content/drive/MyDrive/ColabNotebooks/DatasetPattern/mitochondria/mitochondria_002.tif', '/content/drive/MyDrive/ColabNotebooks/DatasetPattern/mitochondria/mitochondria_003.tif', '/content/drive/MyDrive/ColabNotebooks/DatasetPattern/mitochondria/mitochondria_001.tif', '/content/drive/MyDrive/ColabNotebooks/DatasetPattern/mitochondria/mitochondria_004.tif', '/content/drive/MyDrive/ColabNotebooks/DatasetPattern/mitochondria/mitochondria_020.tif', '/content/drive/MyDrive/ColabNotebooks/DatasetPattern/mitochondria/mitochondria_012.tif', '/content/drive/MyDrive/ColabNotebooks/DatasetPattern/mitochondria/mitochondria_010.tif', '/content/drive/MyDrive/ColabNotebooks/DatasetPattern/mitochondria/mitochondria_006.tif', '/content/drive/MyDrive/ColabNotebooks/DatasetPattern/mitochondria/mitochondria_007.tif', '/content/drive/MyDrive/ColabNotebooks/DatasetPattern/mitochondria/mitochondria_014.tif', '/content/drive/MyDrive/ColabNotebooks/DatasetPattern/mitochondria/mitochondria_019.tif', '/content/drive/MyDrive/ColabNotebooks/DatasetPattern/mitochondria/mitochondria_015.tif', '/content/drive/MyDrive/ColabNotebooks/DatasetPattern/mitochondria/mitochondria_018.tif', '/content/drive/MyDrive/ColabNotebooks/DatasetPattern/mitochondria/mitochondria_017.tif', '/content/drive/MyDrive/ColabNotebooks/DatasetPattern/mitochondria/mitochondria_021.tif', '/content/drive/MyDrive/ColabNotebooks/DatasetPattern/mitochondria/mitochondria_016.tif', '/content/drive/MyDrive/ColabNotebooks/DatasetPattern/mitochondria/mitochondria_008.tif', '/content/drive/MyDrive/ColabNotebooks/DatasetPattern/mitochondria/mitochondria_022.tif', '/content/drive/MyDrive/ColabNotebooks/DatasetPattern/mitochondria/mitochondria_009.tif', '/content/drive/MyDrive/ColabNotebooks/DatasetPattern/mitochondria/mitochondria_013.tif', '/content/drive/MyDrive/ColabNotebooks/DatasetPattern/mitochondria/mitochondria_011.tif', '/content/drive/MyDrive/ColabNotebooks/DatasetPattern/mitochondria/mitochondria_059.tif', '/content/drive/MyDrive/ColabNotebooks/DatasetPattern/mitochondria/mitochondria_061.tif', '/content/drive/MyDrive/ColabNotebooks/DatasetPattern/mitochondria/mitochondria_057.tif', '/content/drive/MyDrive/ColabNotebooks/DatasetPattern/mitochondria/mitochondria_063.tif', '/content/drive/MyDrive/ColabNotebooks/DatasetPattern/mitochondria/mitochondria_062.tif', '/content/drive/MyDrive/ColabNotebooks/DatasetPattern/mitochondria/mitochondria_064.tif', '/content/drive/MyDrive/ColabNotebooks/DatasetPattern/mitochondria/mitochondria_055.tif', '/content/drive/MyDrive/ColabNotebooks/DatasetPattern/mitochondria/mitochondria_056.tif', '/content/drive/MyDrive/ColabNotebooks/DatasetPattern/mitochondria/mitochondria_051.tif', '/content/drive/MyDrive/ColabNotebooks/DatasetPattern/mitochondria/mitochondria_023.tif', '/content/drive/MyDrive/ColabNotebooks/DatasetPattern/mitochondria/mitochondria_053.tif', '/content/drive/MyDrive/ColabNotebooks/DatasetPattern/mitochondria/mitochondria_058.tif', '/content/drive/MyDrive/ColabNotebooks/DatasetPattern/mitochondria/mitochondria_054.tif', '/content/drive/MyDrive/ColabNotebooks/DatasetPattern/mitochondria/mitochondria_052.tif', '/content/drive/MyDrive/ColabNotebooks/DatasetPattern/mitochondria/mitochondria_060.tif', '/content/drive/MyDrive/ColabNotebooks/DatasetPattern/mitochondria/mitochondria_065.tif', '/content/drive/MyDrive/ColabNotebooks/DatasetPattern/mitochondria/mitochondria_069.tif', '/content/drive/MyDrive/ColabNotebooks/DatasetPattern/mitochondria/mitochondria_028.tif', '/content/drive/MyDrive/ColabNotebooks/DatasetPattern/mitochondria/mitochondria_071.tif', '/content/drive/MyDrive/ColabNotebooks/DatasetPattern/mitochondria/mitochondria_066.tif', '/content/drive/MyDrive/ColabNotebooks/DatasetPattern/mitochondria/mitochondria_067.tif', '/content/drive/MyDrive/ColabNotebooks/DatasetPattern/mitochondria/mitochondria_025.tif', '/content/drive/MyDrive/ColabNotebooks/DatasetPattern/mitochondria/mitochondria_029.tif', '/content/drive/MyDrive/ColabNotebooks/DatasetPattern/mitochondria/mitochondria_032.tif', '/content/drive/MyDrive/ColabNotebooks/DatasetPattern/mitochondria/mitochondria_070.tif', '/content/drive/MyDrive/ColabNotebooks/DatasetPattern/mitochondria/mitochondria_068.tif', '/content/drive/MyDrive/ColabNotebooks/DatasetPattern/mitochondria/mitochondria_073.tif', '/content/drive/MyDrive/ColabNotebooks/DatasetPattern/mitochondria/mitochondria_031.tif', '/content/drive/MyDrive/ColabNotebooks/DatasetPattern/mitochondria/mitochondria_024.tif', '/content/drive/MyDrive/ColabNotebooks/DatasetPattern/mitochondria/mitochondria_072.tif', '/content/drive/MyDrive/ColabNotebooks/DatasetPattern/mitochondria/mitochondria_030.tif', '/content/drive/MyDrive/ColabNotebooks/DatasetPattern/mitochondria/mitochondria_026.tif', '/content/drive/MyDrive/ColabNotebooks/DatasetPattern/mitochondria/mitochondria_027.tif', '/content/drive/MyDrive/ColabNotebooks/DatasetPattern/mitochondria/mitochondria_038.tif', '/content/drive/MyDrive/ColabNotebooks/DatasetPattern/mitochondria/mitochondria_047.tif', '/content/drive/MyDrive/ColabNotebooks/DatasetPattern/mitochondria/mitochondria_037.tif', '/content/drive/MyDrive/ColabNotebooks/DatasetPattern/mitochondria/mitochondria_034.tif', '/content/drive/MyDrive/ColabNotebooks/DatasetPattern/mitochondria/mitochondria_039.tif', '/content/drive/MyDrive/ColabNotebooks/DatasetPattern/mitochondria/mitochondria_041.tif', '/content/drive/MyDrive/ColabNotebooks/DatasetPattern/mitochondria/mitochondria_035.tif', '/content/drive/MyDrive/ColabNotebooks/DatasetPattern/mitochondria/mitochondria_048.tif', '/content/drive/MyDrive/ColabNotebooks/DatasetPattern/mitochondria/mitochondria_040.tif', '/content/drive/MyDrive/ColabNotebooks/DatasetPattern/mitochondria/mitochondria_045.tif', '/content/drive/MyDrive/ColabNotebooks/DatasetPattern/mitochondria/mitochondria_046.tif', '/content/drive/MyDrive/ColabNotebooks/DatasetPattern/mitochondria/mitochondria_042.tif', '/content/drive/MyDrive/ColabNotebooks/DatasetPattern/mitochondria/mitochondria_044.tif', '/content/drive/MyDrive/ColabNotebooks/DatasetPattern/mitochondria/mitochondria_049.tif', '/content/drive/MyDrive/ColabNotebooks/DatasetPattern/mitochondria/mitochondria_043.tif', '/content/drive/MyDrive/ColabNotebooks/DatasetPattern/mitochondria/mitochondria_036.tif', '/content/drive/MyDrive/ColabNotebooks/DatasetPattern/mitochondria/mitochondria_033.tif', '/content/drive/MyDrive/ColabNotebooks/DatasetPattern/mitochondria/mitochondria_050.tif'], ['/content/drive/MyDrive/ColabNotebooks/DatasetPattern/nucleolus/nucleolus_005.tif', '/content/drive/MyDrive/ColabNotebooks/DatasetPattern/nucleolus/nucleolus_014.tif', '/content/drive/MyDrive/ColabNotebooks/DatasetPattern/nucleolus/nucleolus_008.tif', '/content/drive/MyDrive/ColabNotebooks/DatasetPattern/nucleolus/nucleolus_013.tif', '/content/drive/MyDrive/ColabNotebooks/DatasetPattern/nucleolus/nucleolus_010.tif', '/content/drive/MyDrive/ColabNotebooks/DatasetPattern/nucleolus/nucleolus_016.tif', '/content/drive/MyDrive/ColabNotebooks/DatasetPattern/nucleolus/nucleolus_015.tif', '/content/drive/MyDrive/ColabNotebooks/DatasetPattern/nucleolus/nucleolus_001.tif', '/content/drive/MyDrive/ColabNotebooks/DatasetPattern/nucleolus/nucleolus_012.tif', '/content/drive/MyDrive/ColabNotebooks/DatasetPattern/nucleolus/nucleolus_007.tif', '/content/drive/MyDrive/ColabNotebooks/DatasetPattern/nucleolus/nucleolus_009.tif', '/content/drive/MyDrive/ColabNotebooks/DatasetPattern/nucleolus/nucleolus_003.tif', '/content/drive/MyDrive/ColabNotebooks/DatasetPattern/nucleolus/nucleolus_011.tif', '/content/drive/MyDrive/ColabNotebooks/DatasetPattern/nucleolus/nucleolus_006.tif', '/content/drive/MyDrive/ColabNotebooks/DatasetPattern/nucleolus/nucleolus_002.tif', '/content/drive/MyDrive/ColabNotebooks/DatasetPattern/nucleolus/nucleolus_004.tif', '/content/drive/MyDrive/ColabNotebooks/DatasetPattern/nucleolus/nucleolus_021.tif', '/content/drive/MyDrive/ColabNotebooks/DatasetPattern/nucleolus/nucleolus_029.tif', '/content/drive/MyDrive/ColabNotebooks/DatasetPattern/nucleolus/nucleolus_018.tif', '/content/drive/MyDrive/ColabNotebooks/DatasetPattern/nucleolus/nucleolus_020.tif', '/content/drive/MyDrive/ColabNotebooks/DatasetPattern/nucleolus/nucleolus_017.tif', '/content/drive/MyDrive/ColabNotebooks/DatasetPattern/nucleolus/nucleolus_024.tif', '/content/drive/MyDrive/ColabNotebooks/DatasetPattern/nucleolus/nucleolus_031.tif', '/content/drive/MyDrive/ColabNotebooks/DatasetPattern/nucleolus/nucleolus_022.tif', '/content/drive/MyDrive/ColabNotebooks/DatasetPattern/nucleolus/nucleolus_032.tif', '/content/drive/MyDrive/ColabNotebooks/DatasetPattern/nucleolus/nucleolus_019.tif', '/content/drive/MyDrive/ColabNotebooks/DatasetPattern/nucleolus/nucleolus_027.tif', '/content/drive/MyDrive/ColabNotebooks/DatasetPattern/nucleolus/nucleolus_030.tif', '/content/drive/MyDrive/ColabNotebooks/DatasetPattern/nucleolus/nucleolus_023.tif', '/content/drive/MyDrive/ColabNotebooks/DatasetPattern/nucleolus/nucleolus_033.tif', '/content/drive/MyDrive/ColabNotebooks/DatasetPattern/nucleolus/nucleolus_028.tif', '/content/drive/MyDrive/ColabNotebooks/DatasetPattern/nucleolus/nucleolus_025.tif', '/content/drive/MyDrive/ColabNotebooks/DatasetPattern/nucleolus/nucleolus_026.tif', '/content/drive/MyDrive/ColabNotebooks/DatasetPattern/nucleolus/nucleolus_037.tif', '/content/drive/MyDrive/ColabNotebooks/DatasetPattern/nucleolus/nucleolus_045.tif', '/content/drive/MyDrive/ColabNotebooks/DatasetPattern/nucleolus/nucleolus_039.tif', '/content/drive/MyDrive/ColabNotebooks/DatasetPattern/nucleolus/nucleolus_046.tif', '/content/drive/MyDrive/ColabNotebooks/DatasetPattern/nucleolus/nucleolus_043.tif', '/content/drive/MyDrive/ColabNotebooks/DatasetPattern/nucleolus/nucleolus_038.tif', '/content/drive/MyDrive/ColabNotebooks/DatasetPattern/nucleolus/nucleolus_048.tif', '/content/drive/MyDrive/ColabNotebooks/DatasetPattern/nucleolus/nucleolus_040.tif', '/content/drive/MyDrive/ColabNotebooks/DatasetPattern/nucleolus/nucleolus_036.tif', '/content/drive/MyDrive/ColabNotebooks/DatasetPattern/nucleolus/nucleolus_044.tif', '/content/drive/MyDrive/ColabNotebooks/DatasetPattern/nucleolus/nucleolus_035.tif', '/content/drive/MyDrive/ColabNotebooks/DatasetPattern/nucleolus/nucleolus_041.tif', '/content/drive/MyDrive/ColabNotebooks/DatasetPattern/nucleolus/nucleolus_049.tif', '/content/drive/MyDrive/ColabNotebooks/DatasetPattern/nucleolus/nucleolus_034.tif', '/content/drive/MyDrive/ColabNotebooks/DatasetPattern/nucleolus/nucleolus_042.tif', '/content/drive/MyDrive/ColabNotebooks/DatasetPattern/nucleolus/nucleolus_047.tif', '/content/drive/MyDrive/ColabNotebooks/DatasetPattern/nucleolus/nucleolus_061.tif', '/content/drive/MyDrive/ColabNotebooks/DatasetPattern/nucleolus/nucleolus_060.tif', '/content/drive/MyDrive/ColabNotebooks/DatasetPattern/nucleolus/nucleolus_054.tif', '/content/drive/MyDrive/ColabNotebooks/DatasetPattern/nucleolus/nucleolus_062.tif', '/content/drive/MyDrive/ColabNotebooks/DatasetPattern/nucleolus/nucleolus_057.tif', '/content/drive/MyDrive/ColabNotebooks/DatasetPattern/nucleolus/nucleolus_052.tif', '/content/drive/MyDrive/ColabNotebooks/DatasetPattern/nucleolus/nucleolus_050.tif', '/content/drive/MyDrive/ColabNotebooks/DatasetPattern/nucleolus/nucleolus_058.tif', '/content/drive/MyDrive/ColabNotebooks/DatasetPattern/nucleolus/nucleolus_064.tif', '/content/drive/MyDrive/ColabNotebooks/DatasetPattern/nucleolus/nucleolus_063.tif', '/content/drive/MyDrive/ColabNotebooks/DatasetPattern/nucleolus/nucleolus_051.tif', '/content/drive/MyDrive/ColabNotebooks/DatasetPattern/nucleolus/nucleolus_066.tif', '/content/drive/MyDrive/ColabNotebooks/DatasetPattern/nucleolus/nucleolus_065.tif', '/content/drive/MyDrive/ColabNotebooks/DatasetPattern/nucleolus/nucleolus_055.tif', '/content/drive/MyDrive/ColabNotebooks/DatasetPattern/nucleolus/nucleolus_059.tif', '/content/drive/MyDrive/ColabNotebooks/DatasetPattern/nucleolus/nucleolus_053.tif', '/content/drive/MyDrive/ColabNotebooks/DatasetPattern/nucleolus/nucleolus_056.tif', '/content/drive/MyDrive/ColabNotebooks/DatasetPattern/nucleolus/nucleolus_074.tif', '/content/drive/MyDrive/ColabNotebooks/DatasetPattern/nucleolus/nucleolus_073.tif', '/content/drive/MyDrive/ColabNotebooks/DatasetPattern/nucleolus/nucleolus_069.tif', '/content/drive/MyDrive/ColabNotebooks/DatasetPattern/nucleolus/nucleolus_077.tif', '/content/drive/MyDrive/ColabNotebooks/DatasetPattern/nucleolus/nucleolus_076.tif', '/content/drive/MyDrive/ColabNotebooks/DatasetPattern/nucleolus/nucleolus_072.tif', '/content/drive/MyDrive/ColabNotebooks/DatasetPattern/nucleolus/nucleolus_075.tif', '/content/drive/MyDrive/ColabNotebooks/DatasetPattern/nucleolus/nucleolus_079.tif', '/content/drive/MyDrive/ColabNotebooks/DatasetPattern/nucleolus/nucleolus_067.tif', '/content/drive/MyDrive/ColabNotebooks/DatasetPattern/nucleolus/nucleolus_068.tif', '/content/drive/MyDrive/ColabNotebooks/DatasetPattern/nucleolus/nucleolus_071.tif', '/content/drive/MyDrive/ColabNotebooks/DatasetPattern/nucleolus/nucleolus_070.tif', '/content/drive/MyDrive/ColabNotebooks/DatasetPattern/nucleolus/nucleolus_080.tif', '/content/drive/MyDrive/ColabNotebooks/DatasetPattern/nucleolus/nucleolus_078.tif']]\n"
          ],
          "name": "stdout"
        }
      ]
    },
    {
      "cell_type": "code",
      "metadata": {
        "id": "UKsLkbm7JSek"
      },
      "source": [
        "def PrepareImagesArray(paths,AllImages_Array):\n",
        "\n",
        "    for i in paths:\n",
        "     \n",
        "      img_arr = cv2.imread(i)[...,::-1] #convert BGR to RGB format\n",
        "      img_size = 256\n",
        "      img_arr = img_arr.astype(np.float64)\n",
        "    # Reshaping images to preferred size\n",
        "      img_arr = cv2.resize(img_arr, (img_size, img_size) , interpolation = cv2.INTER_CUBIC  ) \n",
        "      img_arr = (img_arr - img_arr.mean()) / (img_arr.std()) \n",
        "    \n",
        "      AllImages_Array.append(img_arr)"
      ],
      "execution_count": 5,
      "outputs": []
    },
    {
      "cell_type": "code",
      "metadata": {
        "id": "6YYwbdkaJSuW"
      },
      "source": [
        "AllImages_Array = [ ]\n",
        "for i in Paths_Array:\n",
        "  PrepareImagesArray(i,AllImages_Array)\n",
        "AllImages_Array_np = np.array(AllImages_Array)\n",
        "\n",
        "# Delete old images array\n",
        "AllImages_Array = [ ]\n"
      ],
      "execution_count": 6,
      "outputs": []
    },
    {
      "cell_type": "code",
      "metadata": {
        "id": "YczC0SPVJTmu"
      },
      "source": [
        "Labels_encoded = to_categorical(Labels, num_classes = 10)"
      ],
      "execution_count": 7,
      "outputs": []
    },
    {
      "cell_type": "code",
      "metadata": {
        "colab": {
          "base_uri": "https://localhost:8080/"
        },
        "id": "YYANY-0NFggN",
        "outputId": "8b8d9ac4-d919-43d3-f46d-e0456ce2ccc4"
      },
      "source": [
        "x_train , x_test , y_train , y_test = train_test_split(AllImages_Array_np , Labels_encoded, test_size=0.15)\n",
        "x_train , x_valid , y_train , y_valid = train_test_split(x_train , y_train, test_size=0.18)\n",
        "print(\"x_train shape\",x_train.shape)\n",
        "print(\"x_test shape\",x_test.shape)\n",
        "\n",
        "print(\"x_valid shape\",x_valid.shape)\n",
        "print(\"y_train shape\",y_train.shape)\n",
        "print(\"y_test shape\",y_test.shape)\n",
        "print(\"y_valid shape\",y_valid.shape)\n",
        "\n",
        "# Delete images after splitting to save memory\n",
        "\n",
        "AllImages_Array_np = [ ]"
      ],
      "execution_count": 11,
      "outputs": [
        {
          "output_type": "stream",
          "text": [
            "x_train shape (606, 382, 382, 3)\n",
            "x_test shape (131, 382, 382, 3)\n",
            "x_valid shape (134, 382, 382, 3)\n",
            "y_train shape (606, 10)\n",
            "y_test shape (131, 10)\n",
            "y_valid shape (134, 10)\n"
          ],
          "name": "stdout"
        }
      ]
    },
    {
      "cell_type": "code",
      "metadata": {
        "id": "_euxqI2fJT-k"
      },
      "source": [
        "input_t = keras.Input(shape=(256,256,3))\n",
        "res_model = keras.applications.ResNet50(include_top = False , weights=\"imagenet\",input_tensor=input_t)"
      ],
      "execution_count": 27,
      "outputs": []
    },
    {
      "cell_type": "code",
      "metadata": {
        "id": "8hxTwWACQPee"
      },
      "source": [
        "for layer in res_model.layers[:143]:\n",
        "  layer.trainable = False"
      ],
      "execution_count": 28,
      "outputs": []
    },
    {
      "cell_type": "code",
      "metadata": {
        "id": "h1_OdimuKxWm"
      },
      "source": [
        "to_res = (256,256)\n",
        "model = keras.models.Sequential()\n",
        "model.add(keras.layers.Lambda(lambda image: tf.image.resize(image,to_res)))\n",
        "model.add(res_model)\n",
        "model.add(keras.layers.Flatten())\n",
        "model.add(BatchNormalization())\n",
        "model.add(Dense(256,activation='relu'))\n",
        "model.add(Dropout(0.5))\n",
        "\n",
        "model.add(Dense(128,activation='relu'))\n",
        "model.add(Dropout(0.5))\n",
        "model.add(BatchNormalization())\n",
        "\n",
        "model.add(Dense(64,activation='relu'))\n",
        "model.add(Dropout(0.5))\n",
        "model.add(BatchNormalization())\n",
        "model.add(keras.layers.Dense(10, activation='softmax'))"
      ],
      "execution_count": 29,
      "outputs": []
    },
    {
      "cell_type": "code",
      "metadata": {
        "id": "tKNvVPUmNSnU"
      },
      "source": [
        "check_point = keras.callbacks.ModelCheckpoint(filepath=\"resnet_test\" , monitor='val_accuracy',mode=\"max\",save_best_only = True)\n",
        "\n"
      ],
      "execution_count": 30,
      "outputs": []
    },
    {
      "cell_type": "code",
      "metadata": {
        "id": "uhXqi8QzPHzu"
      },
      "source": [
        "model.compile( loss = 'categorical_crossentropy' , optimizer = \"Adam\",\n",
        "              metrics = ['accuracy'])\n",
        "\n",
        "history = model.fit(x_train,y_train,batch_size = 16 , epochs = 10, verbose = 1 , \n",
        "                    validation_data = (x_valid,y_valid), callbacks =[check_point])\n",
        "\n",
        "model.summary()"
      ],
      "execution_count": null,
      "outputs": []
    },
    {
      "cell_type": "code",
      "metadata": {
        "id": "n4bLpe7QhAqT"
      },
      "source": [
        "test_eval = model.evaluate(x_test, y_test, verbose=1)"
      ],
      "execution_count": null,
      "outputs": []
    },
    {
      "cell_type": "code",
      "metadata": {
        "colab": {
          "base_uri": "https://localhost:8080/"
        },
        "id": "bwkWs0A3hKgB",
        "outputId": "8d9317e3-4538-4711-8477-93891e65bd11"
      },
      "source": [
        "model.load_weights(\"resnet_test\")\n",
        "test_eval = model.evaluate(x_test, y_test, verbose=1)"
      ],
      "execution_count": 43,
      "outputs": [
        {
          "output_type": "stream",
          "text": [
            "5/5 [==============================] - 3s 451ms/step - loss: 2.4879 - accuracy: 0.7939\n"
          ],
          "name": "stdout"
        }
      ]
    },
    {
      "cell_type": "code",
      "metadata": {
        "id": "mAFXoy7hhBKg"
      },
      "source": [
        "model.save('Resnet_ImagesColored.h5py')"
      ],
      "execution_count": null,
      "outputs": []
    },
    {
      "cell_type": "code",
      "metadata": {
        "id": "cgCZCCKEhA33"
      },
      "source": [
        "!zip -r /content/Resnet_ImagesColored.zip /content/Resnet_ImagesColored.h5py"
      ],
      "execution_count": null,
      "outputs": []
    },
    {
      "cell_type": "code",
      "metadata": {
        "id": "JII6e-hLlGwm"
      },
      "source": [
        "model_2 = keras.models.load_model(\"Resnet_ImagesColored.h5py\")"
      ],
      "execution_count": 38,
      "outputs": []
    },
    {
      "cell_type": "code",
      "metadata": {
        "id": "gqWSxJTajMDO"
      },
      "source": [
        "predicted_classes_all = model.predict(x_test)\n",
        "predicted_classes_all = np.argmax(predicted_classes_all,axis=1)"
      ],
      "execution_count": 45,
      "outputs": []
    },
    {
      "cell_type": "code",
      "metadata": {
        "id": "gymFjUd6lFEH"
      },
      "source": [
        "True_classes_all = np.argmax(y_test,axis = 1) "
      ],
      "execution_count": 46,
      "outputs": []
    },
    {
      "cell_type": "code",
      "metadata": {
        "colab": {
          "base_uri": "https://localhost:8080/"
        },
        "id": "L1QQB_sNlKDm",
        "outputId": "822fae48-a9ba-445c-fa6c-5ebd1285d066"
      },
      "source": [
        "target_names = [\"Class: {}\".format(Labels_String[i]) for i in range(10)]\n",
        "print(classification_report(True_classes_all, predicted_classes_all, target_names=target_names))"
      ],
      "execution_count": 47,
      "outputs": [
        {
          "output_type": "stream",
          "text": [
            "                     precision    recall  f1-score   support\n",
            "\n",
            "       Class: actin       0.93      0.88      0.90        16\n",
            "         Class: dna       0.92      1.00      0.96        11\n",
            "    Class: endosome       0.71      0.67      0.69        15\n",
            "          Class: er       0.65      1.00      0.79        13\n",
            "      Class: golgia       0.67      0.92      0.77        13\n",
            "      Class: golgpp       1.00      0.53      0.70        15\n",
            "    Class: lysosome       0.82      0.60      0.69        15\n",
            "Class: microtubules       0.71      0.62      0.67         8\n",
            "Class: mitochondria       1.00      0.73      0.84        11\n",
            "   Class: nucleolus       0.78      1.00      0.88        14\n",
            "\n",
            "           accuracy                           0.79       131\n",
            "          macro avg       0.82      0.80      0.79       131\n",
            "       weighted avg       0.82      0.79      0.79       131\n",
            "\n"
          ],
          "name": "stdout"
        }
      ]
    },
    {
      "cell_type": "code",
      "metadata": {
        "id": "nkaCvn-U08SG"
      },
      "source": [
        "accuracy = history.history['accuracy']\n",
        "val_accuracy = history.history['val_accuracy']\n",
        "loss = history.history['loss']\n",
        "val_loss = history.history['val_loss']\n",
        "epochs = range(len(accuracy))\n",
        "plt.plot(epochs, accuracy, 'bo', label='Training accuracy')\n",
        "plt.plot(epochs, val_accuracy, 'b', label='Validation accuracy')\n",
        "plt.title('Training and validation accuracy')\n",
        "plt.legend()\n",
        "plt.figure()\n",
        "plt.plot(epochs, loss, 'bo', label='Training loss')\n",
        "plt.plot(epochs, val_loss, 'b', label='Validation loss')\n",
        "plt.title('Training and validation loss')\n",
        "plt.legend()\n",
        "plt.show()"
      ],
      "execution_count": null,
      "outputs": []
    }
  ]
}